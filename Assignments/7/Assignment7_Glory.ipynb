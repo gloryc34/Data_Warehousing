{
 "cells": [
  {
   "cell_type": "markdown",
   "id": "f369c6ca",
   "metadata": {},
   "source": [
    "# Assignment #7 - Data Gathering and Warehousing - DSSA-5102\n",
    "\n",
    "Instructor: Melissa Laurino</br>\n",
    "Spring 2024</br>\n",
    "\n",
    "Name: Colin Glory\n",
    "</br>\n",
    "Date: 2/29/24\n",
    "<br>\n",
    "<br>\n",
    "**At this time in the semester:** <br>\n",
    "--We have explored a dataset. <br>\n",
    "--We have cleaned our dataset. <br>\n",
    "--We created a Github account with a repository for this class and included a Metadata file about our data. <br>\n",
    "--We introduced general SQL syntax, queries, and applications in R.<br>\n",
    "--Created our own database from scratch in R using libraries RMariaDB and RSQLite <br>\n",
    "<br>\n",
    "\n",
    "Now we will populate and create **all** tables for our dataset into our database.<br>\n",
    "\n",
    "We used two R packages to create two separate databases for practice in our previous assignment. One was stored on our MySQL server using R package RMariaDB, and the other was stored locally using R package RSQLite. Choose ONE of the methods we practiced to continue to create all tables and populate your tables with your data from your dataset (Feel free to practice with both methods!). After using either method, create a visual database schema diagram in MySQL Workbench. <br>\n",
    "Keep in mind - if you are creating your database locally with RSQLite, you can then upload your database.db file to the MySQL Workbench to obtain the database schema diagram.\n",
    "<br>\n",
    "Follow the instructions below to complete the assignment. Be sure to comment all code. Include a .png image of your database schema from MySQL Workbench in your Blackboard submission or Github repository.\n"
   ]
  },
  {
   "cell_type": "markdown",
   "id": "777d028a",
   "metadata": {},
   "source": [
    "R Package for creating database tables: RMariaDB"
   ]
  },
  {
   "cell_type": "code",
   "execution_count": null,
   "id": "4b6bbe50",
   "metadata": {},
   "outputs": [],
   "source": [
    "#Install necessary packages. After you have them installed, do not install them again. You should already have these installed from Assignment #4.\n",
    "#Continuing to run install.packages could update the versions of other dependent packages.\n",
    "#install.packages(\"RMariaDB\")\n",
    "#install.packages(\"DBI\")\n",
    "#install.packages(\"sqldf\")\n",
    "#install.packages(\"RSQLite\")"
   ]
  },
  {
   "cell_type": "code",
   "execution_count": 6,
   "id": "209701f8",
   "metadata": {},
   "outputs": [],
   "source": [
    "#Only uncomment the R package(s) you plan to use. \n",
    "library(DBI)\n",
    "library(RMariaDB)\n",
    "#library(RSQLite)"
   ]
  },
  {
   "cell_type": "code",
   "execution_count": 1,
   "id": "f61dba89",
   "metadata": {},
   "outputs": [],
   "source": [
    "#Connect to the database you created in Assignment #6 using your preferred method."
   ]
  },
  {
   "cell_type": "code",
   "execution_count": 36,
   "id": "8f2937ac",
   "metadata": {},
   "outputs": [],
   "source": [
    "# Database variables\n",
    "localuserpassword <- \"Charlie@bowie212\" \n",
    "localport <- 3306 \n",
    "db_name <- \"assignment6\" "
   ]
  },
  {
   "cell_type": "code",
   "execution_count": 37,
   "id": "f62f9fc3-d119-4402-b0a0-becc4d6f1e33",
   "metadata": {},
   "outputs": [],
   "source": [
    "#Connect to the server using MariaDB()\n",
    "con <- dbConnect(RMariaDB::MariaDB(), \n",
    "                 host = 'localhost',\n",
    "                 user = 'root',\n",
    "                 password = localuserpassword,\n",
    "                 port = localport)\n"
   ]
  },
  {
   "cell_type": "code",
   "execution_count": 12,
   "id": "0ea54f10",
   "metadata": {},
   "outputs": [
    {
     "data": {
      "text/html": [
       "1"
      ],
      "text/latex": [
       "1"
      ],
      "text/markdown": [
       "1"
      ],
      "text/plain": [
       "[1] 1"
      ]
     },
     "metadata": {},
     "output_type": "display_data"
    },
    {
     "data": {
      "text/html": [
       "0"
      ],
      "text/latex": [
       "0"
      ],
      "text/markdown": [
       "0"
      ],
      "text/plain": [
       "[1] 0"
      ]
     },
     "metadata": {},
     "output_type": "display_data"
    }
   ],
   "source": [
    "#Create your first database integrated with MySQL Workbench. Use:\n",
    "dbExecute(con, paste(\"CREATE DATABASE IF NOT EXISTS \", db_name))\n",
    "#This code will create the database if it does not already exist with the db_name you defined above.\n",
    "#Depending on your package versions, you may not need paste().\n",
    "\n",
    "#If you have multiple databases, it is important to specify what database you are using.\n",
    "#This especially applies if you have reused code to create multiple databases!\n",
    "dbExecute(con, paste(\"USE\", db_name))\n",
    "\n",
    "#Note above paste() function.\n",
    "#This may not be needed and depends on your version of R/SQLpackages."
   ]
  },
  {
   "cell_type": "code",
   "execution_count": 34,
   "id": "e0963fcd",
   "metadata": {},
   "outputs": [],
   "source": [
    "df <- read.csv(\"cleaned_data.csv\")"
   ]
  },
  {
   "cell_type": "code",
   "execution_count": 27,
   "id": "f3d199b0-7347-4b9a-887a-52cc5366d5f0",
   "metadata": {},
   "outputs": [
    {
     "data": {
      "text/html": [
       "<table class=\"dataframe\">\n",
       "<caption>A data.frame: 11087 × 12</caption>\n",
       "<thead>\n",
       "\t<tr><th scope=col>employee_id</th><th scope=col>job_title</th><th scope=col>experience_level</th><th scope=col>employment_type</th><th scope=col>work_models</th><th scope=col>work_year</th><th scope=col>employee_residence</th><th scope=col>salary</th><th scope=col>salary_currency</th><th scope=col>salary_in_usd</th><th scope=col>company_location</th><th scope=col>company_size</th></tr>\n",
       "\t<tr><th scope=col>&lt;int&gt;</th><th scope=col>&lt;chr&gt;</th><th scope=col>&lt;chr&gt;</th><th scope=col>&lt;chr&gt;</th><th scope=col>&lt;chr&gt;</th><th scope=col>&lt;int&gt;</th><th scope=col>&lt;chr&gt;</th><th scope=col>&lt;int&gt;</th><th scope=col>&lt;chr&gt;</th><th scope=col>&lt;int&gt;</th><th scope=col>&lt;chr&gt;</th><th scope=col>&lt;chr&gt;</th></tr>\n",
       "</thead>\n",
       "<tbody>\n",
       "\t<tr><td> 1</td><td>Data Engineer                  </td><td>Mid-level      </td><td>Full-time</td><td>Remote </td><td>2024</td><td>United States</td><td>148100</td><td>USD</td><td>148100</td><td>United States</td><td>Medium</td></tr>\n",
       "\t<tr><td> 2</td><td>Data Engineer                  </td><td>Mid-level      </td><td>Full-time</td><td>Remote </td><td>2024</td><td>United States</td><td> 98700</td><td>USD</td><td> 98700</td><td>United States</td><td>Medium</td></tr>\n",
       "\t<tr><td> 3</td><td>Data Scientist                 </td><td>Senior-level   </td><td>Full-time</td><td>Remote </td><td>2024</td><td>United States</td><td>140032</td><td>USD</td><td>140032</td><td>United States</td><td>Medium</td></tr>\n",
       "\t<tr><td> 4</td><td>Data Scientist                 </td><td>Senior-level   </td><td>Full-time</td><td>Remote </td><td>2024</td><td>United States</td><td>100022</td><td>USD</td><td>100022</td><td>United States</td><td>Medium</td></tr>\n",
       "\t<tr><td> 5</td><td>BI Developer                   </td><td>Mid-level      </td><td>Full-time</td><td>On-site</td><td>2024</td><td>United States</td><td>120000</td><td>USD</td><td>120000</td><td>United States</td><td>Medium</td></tr>\n",
       "\t<tr><td> 6</td><td>BI Developer                   </td><td>Mid-level      </td><td>Full-time</td><td>On-site</td><td>2024</td><td>United States</td><td> 62100</td><td>USD</td><td> 62100</td><td>United States</td><td>Medium</td></tr>\n",
       "\t<tr><td> 7</td><td>Research Analyst               </td><td>Entry-level    </td><td>Full-time</td><td>On-site</td><td>2024</td><td>United States</td><td>250000</td><td>USD</td><td>250000</td><td>United States</td><td>Medium</td></tr>\n",
       "\t<tr><td> 8</td><td>Research Analyst               </td><td>Entry-level    </td><td>Full-time</td><td>On-site</td><td>2024</td><td>United States</td><td>150000</td><td>USD</td><td>150000</td><td>United States</td><td>Medium</td></tr>\n",
       "\t<tr><td> 9</td><td>Data Engineer                  </td><td>Executive-level</td><td>Full-time</td><td>Remote </td><td>2024</td><td>United States</td><td>219650</td><td>USD</td><td>219650</td><td>United States</td><td>Medium</td></tr>\n",
       "\t<tr><td>10</td><td>Data Engineer                  </td><td>Executive-level</td><td>Full-time</td><td>Remote </td><td>2024</td><td>United States</td><td>136000</td><td>USD</td><td>136000</td><td>United States</td><td>Medium</td></tr>\n",
       "\t<tr><td>11</td><td>Business Intelligence Developer</td><td>Mid-level      </td><td>Full-time</td><td>On-site</td><td>2024</td><td>United States</td><td> 87800</td><td>USD</td><td> 87800</td><td>United States</td><td>Medium</td></tr>\n",
       "\t<tr><td>12</td><td>Business Intelligence Developer</td><td>Mid-level      </td><td>Full-time</td><td>On-site</td><td>2024</td><td>United States</td><td> 76300</td><td>USD</td><td> 76300</td><td>United States</td><td>Medium</td></tr>\n",
       "\t<tr><td>13</td><td>Data Scientist                 </td><td>Mid-level      </td><td>Full-time</td><td>Remote </td><td>2024</td><td>United States</td><td>148100</td><td>USD</td><td>148100</td><td>United States</td><td>Medium</td></tr>\n",
       "\t<tr><td>14</td><td>Data Scientist                 </td><td>Mid-level      </td><td>Full-time</td><td>Remote </td><td>2024</td><td>United States</td><td> 98700</td><td>USD</td><td> 98700</td><td>United States</td><td>Medium</td></tr>\n",
       "\t<tr><td>15</td><td>Data Engineer                  </td><td>Mid-level      </td><td>Full-time</td><td>On-site</td><td>2024</td><td>United States</td><td>145500</td><td>USD</td><td>145500</td><td>United States</td><td>Medium</td></tr>\n",
       "\t<tr><td>16</td><td>Data Engineer                  </td><td>Mid-level      </td><td>Full-time</td><td>On-site</td><td>2024</td><td>United States</td><td> 93000</td><td>USD</td><td> 93000</td><td>United States</td><td>Medium</td></tr>\n",
       "\t<tr><td>17</td><td>Data Scientist                 </td><td>Mid-level      </td><td>Full-time</td><td>On-site</td><td>2024</td><td>United States</td><td> 85000</td><td>USD</td><td> 85000</td><td>United States</td><td>Medium</td></tr>\n",
       "\t<tr><td>18</td><td>Data Scientist                 </td><td>Mid-level      </td><td>Full-time</td><td>On-site</td><td>2024</td><td>United States</td><td> 75000</td><td>USD</td><td> 75000</td><td>United States</td><td>Medium</td></tr>\n",
       "\t<tr><td>19</td><td>Data Scientist                 </td><td>Mid-level      </td><td>Full-time</td><td>On-site</td><td>2024</td><td>United States</td><td>105000</td><td>USD</td><td>105000</td><td>United States</td><td>Medium</td></tr>\n",
       "\t<tr><td>20</td><td>Data Scientist                 </td><td>Mid-level      </td><td>Full-time</td><td>On-site</td><td>2024</td><td>United States</td><td> 70000</td><td>USD</td><td> 70000</td><td>United States</td><td>Medium</td></tr>\n",
       "\t<tr><td>21</td><td>Data Engineer                  </td><td>Senior-level   </td><td>Full-time</td><td>On-site</td><td>2024</td><td>United States</td><td>204662</td><td>USD</td><td>204662</td><td>United States</td><td>Medium</td></tr>\n",
       "\t<tr><td>22</td><td>Data Engineer                  </td><td>Senior-level   </td><td>Full-time</td><td>On-site</td><td>2024</td><td>United States</td><td>184662</td><td>USD</td><td>184662</td><td>United States</td><td>Medium</td></tr>\n",
       "\t<tr><td>23</td><td>Data Scientist                 </td><td>Mid-level      </td><td>Full-time</td><td>On-site</td><td>2024</td><td>United States</td><td>179000</td><td>USD</td><td>179000</td><td>United States</td><td>Medium</td></tr>\n",
       "\t<tr><td>24</td><td>Data Scientist                 </td><td>Mid-level      </td><td>Full-time</td><td>On-site</td><td>2024</td><td>United States</td><td>112000</td><td>USD</td><td>112000</td><td>United States</td><td>Medium</td></tr>\n",
       "\t<tr><td>25</td><td>Data Analyst                   </td><td>Entry-level    </td><td>Full-time</td><td>On-site</td><td>2024</td><td>United States</td><td>115000</td><td>USD</td><td>115000</td><td>United States</td><td>Medium</td></tr>\n",
       "\t<tr><td>26</td><td>Data Analyst                   </td><td>Entry-level    </td><td>Full-time</td><td>On-site</td><td>2024</td><td>United States</td><td> 85000</td><td>USD</td><td> 85000</td><td>United States</td><td>Medium</td></tr>\n",
       "\t<tr><td>27</td><td>Director of Data Science       </td><td>Executive-level</td><td>Full-time</td><td>On-site</td><td>2024</td><td>United States</td><td>225000</td><td>USD</td><td>225000</td><td>United States</td><td>Medium</td></tr>\n",
       "\t<tr><td>28</td><td>Director of Data Science       </td><td>Executive-level</td><td>Full-time</td><td>On-site</td><td>2024</td><td>United States</td><td>180000</td><td>USD</td><td>180000</td><td>United States</td><td>Medium</td></tr>\n",
       "\t<tr><td>29</td><td>MLOps Engineer                 </td><td>Senior-level   </td><td>Full-time</td><td>On-site</td><td>2024</td><td>United States</td><td>175000</td><td>USD</td><td>175000</td><td>United States</td><td>Medium</td></tr>\n",
       "\t<tr><td>30</td><td>MLOps Engineer                 </td><td>Senior-level   </td><td>Full-time</td><td>On-site</td><td>2024</td><td>United States</td><td>110000</td><td>USD</td><td>110000</td><td>United States</td><td>Medium</td></tr>\n",
       "\t<tr><td>⋮</td><td>⋮</td><td>⋮</td><td>⋮</td><td>⋮</td><td>⋮</td><td>⋮</td><td>⋮</td><td>⋮</td><td>⋮</td><td>⋮</td><td>⋮</td></tr>\n",
       "\t<tr><td>11058</td><td>Data Scientist           </td><td>Mid-level      </td><td>Full-time</td><td>On-site</td><td>2020</td><td>India         </td><td> 3000000</td><td>INR</td><td> 40481</td><td>India         </td><td>Large </td></tr>\n",
       "\t<tr><td>11059</td><td>Data Scientist           </td><td>Mid-level      </td><td>Full-time</td><td>Hybrid </td><td>2020</td><td>Hungary       </td><td>11000000</td><td>HUF</td><td> 35735</td><td>Hungary       </td><td>Large </td></tr>\n",
       "\t<tr><td>11060</td><td>Machine Learning Engineer</td><td>Senior-level   </td><td>Full-time</td><td>Remote </td><td>2020</td><td>Croatia       </td><td>   40000</td><td>EUR</td><td> 45618</td><td>Croatia       </td><td>Small </td></tr>\n",
       "\t<tr><td>11061</td><td>Product Data Analyst     </td><td>Mid-level      </td><td>Full-time</td><td>On-site</td><td>2020</td><td>Honduras      </td><td>   20000</td><td>USD</td><td> 20000</td><td>Honduras      </td><td>Small </td></tr>\n",
       "\t<tr><td>11062</td><td>Data Engineer            </td><td>Senior-level   </td><td>Full-time</td><td>Hybrid </td><td>2020</td><td>Greece        </td><td>   42000</td><td>EUR</td><td> 47899</td><td>Greece        </td><td>Large </td></tr>\n",
       "\t<tr><td>11063</td><td>Data Engineer            </td><td>Mid-level      </td><td>Full-time</td><td>Hybrid </td><td>2020</td><td>United Kingdom</td><td>   88000</td><td>GBP</td><td>112872</td><td>United Kingdom</td><td>Large </td></tr>\n",
       "\t<tr><td>11064</td><td>Data Scientist           </td><td>Mid-level      </td><td>Full-time</td><td>Remote </td><td>2020</td><td>United Kingdom</td><td>   60000</td><td>GBP</td><td> 76958</td><td>United Kingdom</td><td>Small </td></tr>\n",
       "\t<tr><td>11065</td><td>Big Data Engineer        </td><td>Senior-level   </td><td>Full-time</td><td>Hybrid </td><td>2020</td><td>United Kingdom</td><td>   85000</td><td>GBP</td><td>109024</td><td>United Kingdom</td><td>Medium</td></tr>\n",
       "\t<tr><td>11066</td><td>Big Data Engineer        </td><td>Senior-level   </td><td>Full-time</td><td>Remote </td><td>2020</td><td>Poland        </td><td>  100000</td><td>EUR</td><td>114047</td><td>United Kingdom</td><td>Small </td></tr>\n",
       "\t<tr><td>11067</td><td>Data Analyst             </td><td>Mid-level      </td><td>Full-time</td><td>Hybrid </td><td>2020</td><td>France        </td><td>   41000</td><td>EUR</td><td> 46759</td><td>France        </td><td>Large </td></tr>\n",
       "\t<tr><td>11068</td><td>Data Engineer            </td><td>Mid-level      </td><td>Full-time</td><td>Hybrid </td><td>2020</td><td>France        </td><td>   61500</td><td>EUR</td><td> 70139</td><td>France        </td><td>Large </td></tr>\n",
       "\t<tr><td>11069</td><td>Data Scientist           </td><td>Entry-level    </td><td>Full-time</td><td>On-site</td><td>2020</td><td>France        </td><td>   45000</td><td>EUR</td><td> 51321</td><td>France        </td><td>Small </td></tr>\n",
       "\t<tr><td>11070</td><td>Data Scientist           </td><td>Entry-level    </td><td>Full-time</td><td>On-site</td><td>2020</td><td>France        </td><td>   35000</td><td>EUR</td><td> 39916</td><td>France        </td><td>Medium</td></tr>\n",
       "\t<tr><td>11071</td><td>Data Scientist           </td><td>Mid-level      </td><td>Full-time</td><td>Hybrid </td><td>2020</td><td>France        </td><td>   37000</td><td>EUR</td><td> 42197</td><td>France        </td><td>Small </td></tr>\n",
       "\t<tr><td>11072</td><td>Data Engineer            </td><td>Executive-level</td><td>Full-time</td><td>Hybrid </td><td>2020</td><td>Spain         </td><td>   70000</td><td>EUR</td><td> 79833</td><td>Spain         </td><td>Large </td></tr>\n",
       "\t<tr><td>11073</td><td>Data Scientist           </td><td>Mid-level      </td><td>Full-time</td><td>Remote </td><td>2020</td><td>Spain         </td><td>   34000</td><td>EUR</td><td> 38776</td><td>Spain         </td><td>Medium</td></tr>\n",
       "\t<tr><td>11074</td><td>AI Scientist             </td><td>Entry-level    </td><td>Full-time</td><td>Hybrid </td><td>2020</td><td>Denmark       </td><td>  300000</td><td>DKK</td><td> 45896</td><td>Denmark       </td><td>Small </td></tr>\n",
       "\t<tr><td>11075</td><td>Data Analyst             </td><td>Entry-level    </td><td>Full-time</td><td>On-site</td><td>2020</td><td>Germany       </td><td>   42000</td><td>EUR</td><td> 47899</td><td>Germany       </td><td>Large </td></tr>\n",
       "\t<tr><td>11076</td><td>Data Scientist           </td><td>Entry-level    </td><td>Full-time</td><td>On-site</td><td>2020</td><td>Germany       </td><td>   43200</td><td>EUR</td><td> 49268</td><td>Germany       </td><td>Small </td></tr>\n",
       "\t<tr><td>11077</td><td>Data Engineer            </td><td>Entry-level    </td><td>Full-time</td><td>Remote </td><td>2020</td><td>Pakistan      </td><td>   48000</td><td>EUR</td><td> 54742</td><td>Germany       </td><td>Large </td></tr>\n",
       "\t<tr><td>11078</td><td>Data Engineer            </td><td>Mid-level      </td><td>Full-time</td><td>Remote </td><td>2020</td><td>Germany       </td><td>   51999</td><td>EUR</td><td> 59303</td><td>Germany       </td><td>Small </td></tr>\n",
       "\t<tr><td>11079</td><td>ML Engineer              </td><td>Entry-level    </td><td>Part-time</td><td>Remote </td><td>2020</td><td>Germany       </td><td>   14000</td><td>EUR</td><td> 15966</td><td>Germany       </td><td>Small </td></tr>\n",
       "\t<tr><td>11080</td><td>Data Scientist           </td><td>Mid-level      </td><td>Full-time</td><td>On-site</td><td>2020</td><td>Germany       </td><td>   70000</td><td>EUR</td><td> 79833</td><td>Germany       </td><td>Large </td></tr>\n",
       "\t<tr><td>11081</td><td>Data Scientist           </td><td>Entry-level    </td><td>Full-time</td><td>Hybrid </td><td>2020</td><td>Germany       </td><td>   55000</td><td>EUR</td><td> 62726</td><td>Germany       </td><td>Small </td></tr>\n",
       "\t<tr><td>11082</td><td>Principal Data Scientist </td><td>Senior-level   </td><td>Full-time</td><td>Remote </td><td>2020</td><td>Germany       </td><td>  130000</td><td>EUR</td><td>148261</td><td>Germany       </td><td>Medium</td></tr>\n",
       "\t<tr><td>11083</td><td>Staff Data Analyst       </td><td>Entry-level    </td><td>Contract </td><td>Hybrid </td><td>2020</td><td>Canada        </td><td>   60000</td><td>CAD</td><td> 44753</td><td>Canada        </td><td>Large </td></tr>\n",
       "\t<tr><td>11084</td><td>Staff Data Analyst       </td><td>Executive-level</td><td>Full-time</td><td>On-site</td><td>2020</td><td>Nigeria       </td><td>   15000</td><td>USD</td><td> 15000</td><td>Canada        </td><td>Medium</td></tr>\n",
       "\t<tr><td>11085</td><td>Machine Learning Manager </td><td>Senior-level   </td><td>Full-time</td><td>Hybrid </td><td>2020</td><td>Canada        </td><td>  157000</td><td>CAD</td><td>117104</td><td>Canada        </td><td>Large </td></tr>\n",
       "\t<tr><td>11086</td><td>Data Engineer            </td><td>Mid-level      </td><td>Full-time</td><td>Hybrid </td><td>2020</td><td>Austria       </td><td>   65000</td><td>EUR</td><td> 74130</td><td>Austria       </td><td>Large </td></tr>\n",
       "\t<tr><td>11087</td><td>Data Scientist           </td><td>Senior-level   </td><td>Full-time</td><td>On-site</td><td>2020</td><td>Austria       </td><td>   80000</td><td>EUR</td><td> 91237</td><td>Austria       </td><td>Small </td></tr>\n",
       "</tbody>\n",
       "</table>\n"
      ],
      "text/latex": [
       "A data.frame: 11087 × 12\n",
       "\\begin{tabular}{llllllllllll}\n",
       " employee\\_id & job\\_title & experience\\_level & employment\\_type & work\\_models & work\\_year & employee\\_residence & salary & salary\\_currency & salary\\_in\\_usd & company\\_location & company\\_size\\\\\n",
       " <int> & <chr> & <chr> & <chr> & <chr> & <int> & <chr> & <int> & <chr> & <int> & <chr> & <chr>\\\\\n",
       "\\hline\n",
       "\t  1 & Data Engineer                   & Mid-level       & Full-time & Remote  & 2024 & United States & 148100 & USD & 148100 & United States & Medium\\\\\n",
       "\t  2 & Data Engineer                   & Mid-level       & Full-time & Remote  & 2024 & United States &  98700 & USD &  98700 & United States & Medium\\\\\n",
       "\t  3 & Data Scientist                  & Senior-level    & Full-time & Remote  & 2024 & United States & 140032 & USD & 140032 & United States & Medium\\\\\n",
       "\t  4 & Data Scientist                  & Senior-level    & Full-time & Remote  & 2024 & United States & 100022 & USD & 100022 & United States & Medium\\\\\n",
       "\t  5 & BI Developer                    & Mid-level       & Full-time & On-site & 2024 & United States & 120000 & USD & 120000 & United States & Medium\\\\\n",
       "\t  6 & BI Developer                    & Mid-level       & Full-time & On-site & 2024 & United States &  62100 & USD &  62100 & United States & Medium\\\\\n",
       "\t  7 & Research Analyst                & Entry-level     & Full-time & On-site & 2024 & United States & 250000 & USD & 250000 & United States & Medium\\\\\n",
       "\t  8 & Research Analyst                & Entry-level     & Full-time & On-site & 2024 & United States & 150000 & USD & 150000 & United States & Medium\\\\\n",
       "\t  9 & Data Engineer                   & Executive-level & Full-time & Remote  & 2024 & United States & 219650 & USD & 219650 & United States & Medium\\\\\n",
       "\t 10 & Data Engineer                   & Executive-level & Full-time & Remote  & 2024 & United States & 136000 & USD & 136000 & United States & Medium\\\\\n",
       "\t 11 & Business Intelligence Developer & Mid-level       & Full-time & On-site & 2024 & United States &  87800 & USD &  87800 & United States & Medium\\\\\n",
       "\t 12 & Business Intelligence Developer & Mid-level       & Full-time & On-site & 2024 & United States &  76300 & USD &  76300 & United States & Medium\\\\\n",
       "\t 13 & Data Scientist                  & Mid-level       & Full-time & Remote  & 2024 & United States & 148100 & USD & 148100 & United States & Medium\\\\\n",
       "\t 14 & Data Scientist                  & Mid-level       & Full-time & Remote  & 2024 & United States &  98700 & USD &  98700 & United States & Medium\\\\\n",
       "\t 15 & Data Engineer                   & Mid-level       & Full-time & On-site & 2024 & United States & 145500 & USD & 145500 & United States & Medium\\\\\n",
       "\t 16 & Data Engineer                   & Mid-level       & Full-time & On-site & 2024 & United States &  93000 & USD &  93000 & United States & Medium\\\\\n",
       "\t 17 & Data Scientist                  & Mid-level       & Full-time & On-site & 2024 & United States &  85000 & USD &  85000 & United States & Medium\\\\\n",
       "\t 18 & Data Scientist                  & Mid-level       & Full-time & On-site & 2024 & United States &  75000 & USD &  75000 & United States & Medium\\\\\n",
       "\t 19 & Data Scientist                  & Mid-level       & Full-time & On-site & 2024 & United States & 105000 & USD & 105000 & United States & Medium\\\\\n",
       "\t 20 & Data Scientist                  & Mid-level       & Full-time & On-site & 2024 & United States &  70000 & USD &  70000 & United States & Medium\\\\\n",
       "\t 21 & Data Engineer                   & Senior-level    & Full-time & On-site & 2024 & United States & 204662 & USD & 204662 & United States & Medium\\\\\n",
       "\t 22 & Data Engineer                   & Senior-level    & Full-time & On-site & 2024 & United States & 184662 & USD & 184662 & United States & Medium\\\\\n",
       "\t 23 & Data Scientist                  & Mid-level       & Full-time & On-site & 2024 & United States & 179000 & USD & 179000 & United States & Medium\\\\\n",
       "\t 24 & Data Scientist                  & Mid-level       & Full-time & On-site & 2024 & United States & 112000 & USD & 112000 & United States & Medium\\\\\n",
       "\t 25 & Data Analyst                    & Entry-level     & Full-time & On-site & 2024 & United States & 115000 & USD & 115000 & United States & Medium\\\\\n",
       "\t 26 & Data Analyst                    & Entry-level     & Full-time & On-site & 2024 & United States &  85000 & USD &  85000 & United States & Medium\\\\\n",
       "\t 27 & Director of Data Science        & Executive-level & Full-time & On-site & 2024 & United States & 225000 & USD & 225000 & United States & Medium\\\\\n",
       "\t 28 & Director of Data Science        & Executive-level & Full-time & On-site & 2024 & United States & 180000 & USD & 180000 & United States & Medium\\\\\n",
       "\t 29 & MLOps Engineer                  & Senior-level    & Full-time & On-site & 2024 & United States & 175000 & USD & 175000 & United States & Medium\\\\\n",
       "\t 30 & MLOps Engineer                  & Senior-level    & Full-time & On-site & 2024 & United States & 110000 & USD & 110000 & United States & Medium\\\\\n",
       "\t ⋮ & ⋮ & ⋮ & ⋮ & ⋮ & ⋮ & ⋮ & ⋮ & ⋮ & ⋮ & ⋮ & ⋮\\\\\n",
       "\t 11058 & Data Scientist            & Mid-level       & Full-time & On-site & 2020 & India          &  3000000 & INR &  40481 & India          & Large \\\\\n",
       "\t 11059 & Data Scientist            & Mid-level       & Full-time & Hybrid  & 2020 & Hungary        & 11000000 & HUF &  35735 & Hungary        & Large \\\\\n",
       "\t 11060 & Machine Learning Engineer & Senior-level    & Full-time & Remote  & 2020 & Croatia        &    40000 & EUR &  45618 & Croatia        & Small \\\\\n",
       "\t 11061 & Product Data Analyst      & Mid-level       & Full-time & On-site & 2020 & Honduras       &    20000 & USD &  20000 & Honduras       & Small \\\\\n",
       "\t 11062 & Data Engineer             & Senior-level    & Full-time & Hybrid  & 2020 & Greece         &    42000 & EUR &  47899 & Greece         & Large \\\\\n",
       "\t 11063 & Data Engineer             & Mid-level       & Full-time & Hybrid  & 2020 & United Kingdom &    88000 & GBP & 112872 & United Kingdom & Large \\\\\n",
       "\t 11064 & Data Scientist            & Mid-level       & Full-time & Remote  & 2020 & United Kingdom &    60000 & GBP &  76958 & United Kingdom & Small \\\\\n",
       "\t 11065 & Big Data Engineer         & Senior-level    & Full-time & Hybrid  & 2020 & United Kingdom &    85000 & GBP & 109024 & United Kingdom & Medium\\\\\n",
       "\t 11066 & Big Data Engineer         & Senior-level    & Full-time & Remote  & 2020 & Poland         &   100000 & EUR & 114047 & United Kingdom & Small \\\\\n",
       "\t 11067 & Data Analyst              & Mid-level       & Full-time & Hybrid  & 2020 & France         &    41000 & EUR &  46759 & France         & Large \\\\\n",
       "\t 11068 & Data Engineer             & Mid-level       & Full-time & Hybrid  & 2020 & France         &    61500 & EUR &  70139 & France         & Large \\\\\n",
       "\t 11069 & Data Scientist            & Entry-level     & Full-time & On-site & 2020 & France         &    45000 & EUR &  51321 & France         & Small \\\\\n",
       "\t 11070 & Data Scientist            & Entry-level     & Full-time & On-site & 2020 & France         &    35000 & EUR &  39916 & France         & Medium\\\\\n",
       "\t 11071 & Data Scientist            & Mid-level       & Full-time & Hybrid  & 2020 & France         &    37000 & EUR &  42197 & France         & Small \\\\\n",
       "\t 11072 & Data Engineer             & Executive-level & Full-time & Hybrid  & 2020 & Spain          &    70000 & EUR &  79833 & Spain          & Large \\\\\n",
       "\t 11073 & Data Scientist            & Mid-level       & Full-time & Remote  & 2020 & Spain          &    34000 & EUR &  38776 & Spain          & Medium\\\\\n",
       "\t 11074 & AI Scientist              & Entry-level     & Full-time & Hybrid  & 2020 & Denmark        &   300000 & DKK &  45896 & Denmark        & Small \\\\\n",
       "\t 11075 & Data Analyst              & Entry-level     & Full-time & On-site & 2020 & Germany        &    42000 & EUR &  47899 & Germany        & Large \\\\\n",
       "\t 11076 & Data Scientist            & Entry-level     & Full-time & On-site & 2020 & Germany        &    43200 & EUR &  49268 & Germany        & Small \\\\\n",
       "\t 11077 & Data Engineer             & Entry-level     & Full-time & Remote  & 2020 & Pakistan       &    48000 & EUR &  54742 & Germany        & Large \\\\\n",
       "\t 11078 & Data Engineer             & Mid-level       & Full-time & Remote  & 2020 & Germany        &    51999 & EUR &  59303 & Germany        & Small \\\\\n",
       "\t 11079 & ML Engineer               & Entry-level     & Part-time & Remote  & 2020 & Germany        &    14000 & EUR &  15966 & Germany        & Small \\\\\n",
       "\t 11080 & Data Scientist            & Mid-level       & Full-time & On-site & 2020 & Germany        &    70000 & EUR &  79833 & Germany        & Large \\\\\n",
       "\t 11081 & Data Scientist            & Entry-level     & Full-time & Hybrid  & 2020 & Germany        &    55000 & EUR &  62726 & Germany        & Small \\\\\n",
       "\t 11082 & Principal Data Scientist  & Senior-level    & Full-time & Remote  & 2020 & Germany        &   130000 & EUR & 148261 & Germany        & Medium\\\\\n",
       "\t 11083 & Staff Data Analyst        & Entry-level     & Contract  & Hybrid  & 2020 & Canada         &    60000 & CAD &  44753 & Canada         & Large \\\\\n",
       "\t 11084 & Staff Data Analyst        & Executive-level & Full-time & On-site & 2020 & Nigeria        &    15000 & USD &  15000 & Canada         & Medium\\\\\n",
       "\t 11085 & Machine Learning Manager  & Senior-level    & Full-time & Hybrid  & 2020 & Canada         &   157000 & CAD & 117104 & Canada         & Large \\\\\n",
       "\t 11086 & Data Engineer             & Mid-level       & Full-time & Hybrid  & 2020 & Austria        &    65000 & EUR &  74130 & Austria        & Large \\\\\n",
       "\t 11087 & Data Scientist            & Senior-level    & Full-time & On-site & 2020 & Austria        &    80000 & EUR &  91237 & Austria        & Small \\\\\n",
       "\\end{tabular}\n"
      ],
      "text/markdown": [
       "\n",
       "A data.frame: 11087 × 12\n",
       "\n",
       "| employee_id &lt;int&gt; | job_title &lt;chr&gt; | experience_level &lt;chr&gt; | employment_type &lt;chr&gt; | work_models &lt;chr&gt; | work_year &lt;int&gt; | employee_residence &lt;chr&gt; | salary &lt;int&gt; | salary_currency &lt;chr&gt; | salary_in_usd &lt;int&gt; | company_location &lt;chr&gt; | company_size &lt;chr&gt; |\n",
       "|---|---|---|---|---|---|---|---|---|---|---|---|\n",
       "|  1 | Data Engineer                   | Mid-level       | Full-time | Remote  | 2024 | United States | 148100 | USD | 148100 | United States | Medium |\n",
       "|  2 | Data Engineer                   | Mid-level       | Full-time | Remote  | 2024 | United States |  98700 | USD |  98700 | United States | Medium |\n",
       "|  3 | Data Scientist                  | Senior-level    | Full-time | Remote  | 2024 | United States | 140032 | USD | 140032 | United States | Medium |\n",
       "|  4 | Data Scientist                  | Senior-level    | Full-time | Remote  | 2024 | United States | 100022 | USD | 100022 | United States | Medium |\n",
       "|  5 | BI Developer                    | Mid-level       | Full-time | On-site | 2024 | United States | 120000 | USD | 120000 | United States | Medium |\n",
       "|  6 | BI Developer                    | Mid-level       | Full-time | On-site | 2024 | United States |  62100 | USD |  62100 | United States | Medium |\n",
       "|  7 | Research Analyst                | Entry-level     | Full-time | On-site | 2024 | United States | 250000 | USD | 250000 | United States | Medium |\n",
       "|  8 | Research Analyst                | Entry-level     | Full-time | On-site | 2024 | United States | 150000 | USD | 150000 | United States | Medium |\n",
       "|  9 | Data Engineer                   | Executive-level | Full-time | Remote  | 2024 | United States | 219650 | USD | 219650 | United States | Medium |\n",
       "| 10 | Data Engineer                   | Executive-level | Full-time | Remote  | 2024 | United States | 136000 | USD | 136000 | United States | Medium |\n",
       "| 11 | Business Intelligence Developer | Mid-level       | Full-time | On-site | 2024 | United States |  87800 | USD |  87800 | United States | Medium |\n",
       "| 12 | Business Intelligence Developer | Mid-level       | Full-time | On-site | 2024 | United States |  76300 | USD |  76300 | United States | Medium |\n",
       "| 13 | Data Scientist                  | Mid-level       | Full-time | Remote  | 2024 | United States | 148100 | USD | 148100 | United States | Medium |\n",
       "| 14 | Data Scientist                  | Mid-level       | Full-time | Remote  | 2024 | United States |  98700 | USD |  98700 | United States | Medium |\n",
       "| 15 | Data Engineer                   | Mid-level       | Full-time | On-site | 2024 | United States | 145500 | USD | 145500 | United States | Medium |\n",
       "| 16 | Data Engineer                   | Mid-level       | Full-time | On-site | 2024 | United States |  93000 | USD |  93000 | United States | Medium |\n",
       "| 17 | Data Scientist                  | Mid-level       | Full-time | On-site | 2024 | United States |  85000 | USD |  85000 | United States | Medium |\n",
       "| 18 | Data Scientist                  | Mid-level       | Full-time | On-site | 2024 | United States |  75000 | USD |  75000 | United States | Medium |\n",
       "| 19 | Data Scientist                  | Mid-level       | Full-time | On-site | 2024 | United States | 105000 | USD | 105000 | United States | Medium |\n",
       "| 20 | Data Scientist                  | Mid-level       | Full-time | On-site | 2024 | United States |  70000 | USD |  70000 | United States | Medium |\n",
       "| 21 | Data Engineer                   | Senior-level    | Full-time | On-site | 2024 | United States | 204662 | USD | 204662 | United States | Medium |\n",
       "| 22 | Data Engineer                   | Senior-level    | Full-time | On-site | 2024 | United States | 184662 | USD | 184662 | United States | Medium |\n",
       "| 23 | Data Scientist                  | Mid-level       | Full-time | On-site | 2024 | United States | 179000 | USD | 179000 | United States | Medium |\n",
       "| 24 | Data Scientist                  | Mid-level       | Full-time | On-site | 2024 | United States | 112000 | USD | 112000 | United States | Medium |\n",
       "| 25 | Data Analyst                    | Entry-level     | Full-time | On-site | 2024 | United States | 115000 | USD | 115000 | United States | Medium |\n",
       "| 26 | Data Analyst                    | Entry-level     | Full-time | On-site | 2024 | United States |  85000 | USD |  85000 | United States | Medium |\n",
       "| 27 | Director of Data Science        | Executive-level | Full-time | On-site | 2024 | United States | 225000 | USD | 225000 | United States | Medium |\n",
       "| 28 | Director of Data Science        | Executive-level | Full-time | On-site | 2024 | United States | 180000 | USD | 180000 | United States | Medium |\n",
       "| 29 | MLOps Engineer                  | Senior-level    | Full-time | On-site | 2024 | United States | 175000 | USD | 175000 | United States | Medium |\n",
       "| 30 | MLOps Engineer                  | Senior-level    | Full-time | On-site | 2024 | United States | 110000 | USD | 110000 | United States | Medium |\n",
       "| ⋮ | ⋮ | ⋮ | ⋮ | ⋮ | ⋮ | ⋮ | ⋮ | ⋮ | ⋮ | ⋮ | ⋮ |\n",
       "| 11058 | Data Scientist            | Mid-level       | Full-time | On-site | 2020 | India          |  3000000 | INR |  40481 | India          | Large  |\n",
       "| 11059 | Data Scientist            | Mid-level       | Full-time | Hybrid  | 2020 | Hungary        | 11000000 | HUF |  35735 | Hungary        | Large  |\n",
       "| 11060 | Machine Learning Engineer | Senior-level    | Full-time | Remote  | 2020 | Croatia        |    40000 | EUR |  45618 | Croatia        | Small  |\n",
       "| 11061 | Product Data Analyst      | Mid-level       | Full-time | On-site | 2020 | Honduras       |    20000 | USD |  20000 | Honduras       | Small  |\n",
       "| 11062 | Data Engineer             | Senior-level    | Full-time | Hybrid  | 2020 | Greece         |    42000 | EUR |  47899 | Greece         | Large  |\n",
       "| 11063 | Data Engineer             | Mid-level       | Full-time | Hybrid  | 2020 | United Kingdom |    88000 | GBP | 112872 | United Kingdom | Large  |\n",
       "| 11064 | Data Scientist            | Mid-level       | Full-time | Remote  | 2020 | United Kingdom |    60000 | GBP |  76958 | United Kingdom | Small  |\n",
       "| 11065 | Big Data Engineer         | Senior-level    | Full-time | Hybrid  | 2020 | United Kingdom |    85000 | GBP | 109024 | United Kingdom | Medium |\n",
       "| 11066 | Big Data Engineer         | Senior-level    | Full-time | Remote  | 2020 | Poland         |   100000 | EUR | 114047 | United Kingdom | Small  |\n",
       "| 11067 | Data Analyst              | Mid-level       | Full-time | Hybrid  | 2020 | France         |    41000 | EUR |  46759 | France         | Large  |\n",
       "| 11068 | Data Engineer             | Mid-level       | Full-time | Hybrid  | 2020 | France         |    61500 | EUR |  70139 | France         | Large  |\n",
       "| 11069 | Data Scientist            | Entry-level     | Full-time | On-site | 2020 | France         |    45000 | EUR |  51321 | France         | Small  |\n",
       "| 11070 | Data Scientist            | Entry-level     | Full-time | On-site | 2020 | France         |    35000 | EUR |  39916 | France         | Medium |\n",
       "| 11071 | Data Scientist            | Mid-level       | Full-time | Hybrid  | 2020 | France         |    37000 | EUR |  42197 | France         | Small  |\n",
       "| 11072 | Data Engineer             | Executive-level | Full-time | Hybrid  | 2020 | Spain          |    70000 | EUR |  79833 | Spain          | Large  |\n",
       "| 11073 | Data Scientist            | Mid-level       | Full-time | Remote  | 2020 | Spain          |    34000 | EUR |  38776 | Spain          | Medium |\n",
       "| 11074 | AI Scientist              | Entry-level     | Full-time | Hybrid  | 2020 | Denmark        |   300000 | DKK |  45896 | Denmark        | Small  |\n",
       "| 11075 | Data Analyst              | Entry-level     | Full-time | On-site | 2020 | Germany        |    42000 | EUR |  47899 | Germany        | Large  |\n",
       "| 11076 | Data Scientist            | Entry-level     | Full-time | On-site | 2020 | Germany        |    43200 | EUR |  49268 | Germany        | Small  |\n",
       "| 11077 | Data Engineer             | Entry-level     | Full-time | Remote  | 2020 | Pakistan       |    48000 | EUR |  54742 | Germany        | Large  |\n",
       "| 11078 | Data Engineer             | Mid-level       | Full-time | Remote  | 2020 | Germany        |    51999 | EUR |  59303 | Germany        | Small  |\n",
       "| 11079 | ML Engineer               | Entry-level     | Part-time | Remote  | 2020 | Germany        |    14000 | EUR |  15966 | Germany        | Small  |\n",
       "| 11080 | Data Scientist            | Mid-level       | Full-time | On-site | 2020 | Germany        |    70000 | EUR |  79833 | Germany        | Large  |\n",
       "| 11081 | Data Scientist            | Entry-level     | Full-time | Hybrid  | 2020 | Germany        |    55000 | EUR |  62726 | Germany        | Small  |\n",
       "| 11082 | Principal Data Scientist  | Senior-level    | Full-time | Remote  | 2020 | Germany        |   130000 | EUR | 148261 | Germany        | Medium |\n",
       "| 11083 | Staff Data Analyst        | Entry-level     | Contract  | Hybrid  | 2020 | Canada         |    60000 | CAD |  44753 | Canada         | Large  |\n",
       "| 11084 | Staff Data Analyst        | Executive-level | Full-time | On-site | 2020 | Nigeria        |    15000 | USD |  15000 | Canada         | Medium |\n",
       "| 11085 | Machine Learning Manager  | Senior-level    | Full-time | Hybrid  | 2020 | Canada         |   157000 | CAD | 117104 | Canada         | Large  |\n",
       "| 11086 | Data Engineer             | Mid-level       | Full-time | Hybrid  | 2020 | Austria        |    65000 | EUR |  74130 | Austria        | Large  |\n",
       "| 11087 | Data Scientist            | Senior-level    | Full-time | On-site | 2020 | Austria        |    80000 | EUR |  91237 | Austria        | Small  |\n",
       "\n"
      ],
      "text/plain": [
       "      employee_id job_title                       experience_level\n",
       "1      1          Data Engineer                   Mid-level       \n",
       "2      2          Data Engineer                   Mid-level       \n",
       "3      3          Data Scientist                  Senior-level    \n",
       "4      4          Data Scientist                  Senior-level    \n",
       "5      5          BI Developer                    Mid-level       \n",
       "6      6          BI Developer                    Mid-level       \n",
       "7      7          Research Analyst                Entry-level     \n",
       "8      8          Research Analyst                Entry-level     \n",
       "9      9          Data Engineer                   Executive-level \n",
       "10    10          Data Engineer                   Executive-level \n",
       "11    11          Business Intelligence Developer Mid-level       \n",
       "12    12          Business Intelligence Developer Mid-level       \n",
       "13    13          Data Scientist                  Mid-level       \n",
       "14    14          Data Scientist                  Mid-level       \n",
       "15    15          Data Engineer                   Mid-level       \n",
       "16    16          Data Engineer                   Mid-level       \n",
       "17    17          Data Scientist                  Mid-level       \n",
       "18    18          Data Scientist                  Mid-level       \n",
       "19    19          Data Scientist                  Mid-level       \n",
       "20    20          Data Scientist                  Mid-level       \n",
       "21    21          Data Engineer                   Senior-level    \n",
       "22    22          Data Engineer                   Senior-level    \n",
       "23    23          Data Scientist                  Mid-level       \n",
       "24    24          Data Scientist                  Mid-level       \n",
       "25    25          Data Analyst                    Entry-level     \n",
       "26    26          Data Analyst                    Entry-level     \n",
       "27    27          Director of Data Science        Executive-level \n",
       "28    28          Director of Data Science        Executive-level \n",
       "29    29          MLOps Engineer                  Senior-level    \n",
       "30    30          MLOps Engineer                  Senior-level    \n",
       "⋮     ⋮           ⋮                               ⋮               \n",
       "11058 11058       Data Scientist                  Mid-level       \n",
       "11059 11059       Data Scientist                  Mid-level       \n",
       "11060 11060       Machine Learning Engineer       Senior-level    \n",
       "11061 11061       Product Data Analyst            Mid-level       \n",
       "11062 11062       Data Engineer                   Senior-level    \n",
       "11063 11063       Data Engineer                   Mid-level       \n",
       "11064 11064       Data Scientist                  Mid-level       \n",
       "11065 11065       Big Data Engineer               Senior-level    \n",
       "11066 11066       Big Data Engineer               Senior-level    \n",
       "11067 11067       Data Analyst                    Mid-level       \n",
       "11068 11068       Data Engineer                   Mid-level       \n",
       "11069 11069       Data Scientist                  Entry-level     \n",
       "11070 11070       Data Scientist                  Entry-level     \n",
       "11071 11071       Data Scientist                  Mid-level       \n",
       "11072 11072       Data Engineer                   Executive-level \n",
       "11073 11073       Data Scientist                  Mid-level       \n",
       "11074 11074       AI Scientist                    Entry-level     \n",
       "11075 11075       Data Analyst                    Entry-level     \n",
       "11076 11076       Data Scientist                  Entry-level     \n",
       "11077 11077       Data Engineer                   Entry-level     \n",
       "11078 11078       Data Engineer                   Mid-level       \n",
       "11079 11079       ML Engineer                     Entry-level     \n",
       "11080 11080       Data Scientist                  Mid-level       \n",
       "11081 11081       Data Scientist                  Entry-level     \n",
       "11082 11082       Principal Data Scientist        Senior-level    \n",
       "11083 11083       Staff Data Analyst              Entry-level     \n",
       "11084 11084       Staff Data Analyst              Executive-level \n",
       "11085 11085       Machine Learning Manager        Senior-level    \n",
       "11086 11086       Data Engineer                   Mid-level       \n",
       "11087 11087       Data Scientist                  Senior-level    \n",
       "      employment_type work_models work_year employee_residence salary  \n",
       "1     Full-time       Remote      2024      United States      148100  \n",
       "2     Full-time       Remote      2024      United States       98700  \n",
       "3     Full-time       Remote      2024      United States      140032  \n",
       "4     Full-time       Remote      2024      United States      100022  \n",
       "5     Full-time       On-site     2024      United States      120000  \n",
       "6     Full-time       On-site     2024      United States       62100  \n",
       "7     Full-time       On-site     2024      United States      250000  \n",
       "8     Full-time       On-site     2024      United States      150000  \n",
       "9     Full-time       Remote      2024      United States      219650  \n",
       "10    Full-time       Remote      2024      United States      136000  \n",
       "11    Full-time       On-site     2024      United States       87800  \n",
       "12    Full-time       On-site     2024      United States       76300  \n",
       "13    Full-time       Remote      2024      United States      148100  \n",
       "14    Full-time       Remote      2024      United States       98700  \n",
       "15    Full-time       On-site     2024      United States      145500  \n",
       "16    Full-time       On-site     2024      United States       93000  \n",
       "17    Full-time       On-site     2024      United States       85000  \n",
       "18    Full-time       On-site     2024      United States       75000  \n",
       "19    Full-time       On-site     2024      United States      105000  \n",
       "20    Full-time       On-site     2024      United States       70000  \n",
       "21    Full-time       On-site     2024      United States      204662  \n",
       "22    Full-time       On-site     2024      United States      184662  \n",
       "23    Full-time       On-site     2024      United States      179000  \n",
       "24    Full-time       On-site     2024      United States      112000  \n",
       "25    Full-time       On-site     2024      United States      115000  \n",
       "26    Full-time       On-site     2024      United States       85000  \n",
       "27    Full-time       On-site     2024      United States      225000  \n",
       "28    Full-time       On-site     2024      United States      180000  \n",
       "29    Full-time       On-site     2024      United States      175000  \n",
       "30    Full-time       On-site     2024      United States      110000  \n",
       "⋮     ⋮               ⋮           ⋮         ⋮                  ⋮       \n",
       "11058 Full-time       On-site     2020      India               3000000\n",
       "11059 Full-time       Hybrid      2020      Hungary            11000000\n",
       "11060 Full-time       Remote      2020      Croatia               40000\n",
       "11061 Full-time       On-site     2020      Honduras              20000\n",
       "11062 Full-time       Hybrid      2020      Greece                42000\n",
       "11063 Full-time       Hybrid      2020      United Kingdom        88000\n",
       "11064 Full-time       Remote      2020      United Kingdom        60000\n",
       "11065 Full-time       Hybrid      2020      United Kingdom        85000\n",
       "11066 Full-time       Remote      2020      Poland               100000\n",
       "11067 Full-time       Hybrid      2020      France                41000\n",
       "11068 Full-time       Hybrid      2020      France                61500\n",
       "11069 Full-time       On-site     2020      France                45000\n",
       "11070 Full-time       On-site     2020      France                35000\n",
       "11071 Full-time       Hybrid      2020      France                37000\n",
       "11072 Full-time       Hybrid      2020      Spain                 70000\n",
       "11073 Full-time       Remote      2020      Spain                 34000\n",
       "11074 Full-time       Hybrid      2020      Denmark              300000\n",
       "11075 Full-time       On-site     2020      Germany               42000\n",
       "11076 Full-time       On-site     2020      Germany               43200\n",
       "11077 Full-time       Remote      2020      Pakistan              48000\n",
       "11078 Full-time       Remote      2020      Germany               51999\n",
       "11079 Part-time       Remote      2020      Germany               14000\n",
       "11080 Full-time       On-site     2020      Germany               70000\n",
       "11081 Full-time       Hybrid      2020      Germany               55000\n",
       "11082 Full-time       Remote      2020      Germany              130000\n",
       "11083 Contract        Hybrid      2020      Canada                60000\n",
       "11084 Full-time       On-site     2020      Nigeria               15000\n",
       "11085 Full-time       Hybrid      2020      Canada               157000\n",
       "11086 Full-time       Hybrid      2020      Austria               65000\n",
       "11087 Full-time       On-site     2020      Austria               80000\n",
       "      salary_currency salary_in_usd company_location company_size\n",
       "1     USD             148100        United States    Medium      \n",
       "2     USD              98700        United States    Medium      \n",
       "3     USD             140032        United States    Medium      \n",
       "4     USD             100022        United States    Medium      \n",
       "5     USD             120000        United States    Medium      \n",
       "6     USD              62100        United States    Medium      \n",
       "7     USD             250000        United States    Medium      \n",
       "8     USD             150000        United States    Medium      \n",
       "9     USD             219650        United States    Medium      \n",
       "10    USD             136000        United States    Medium      \n",
       "11    USD              87800        United States    Medium      \n",
       "12    USD              76300        United States    Medium      \n",
       "13    USD             148100        United States    Medium      \n",
       "14    USD              98700        United States    Medium      \n",
       "15    USD             145500        United States    Medium      \n",
       "16    USD              93000        United States    Medium      \n",
       "17    USD              85000        United States    Medium      \n",
       "18    USD              75000        United States    Medium      \n",
       "19    USD             105000        United States    Medium      \n",
       "20    USD              70000        United States    Medium      \n",
       "21    USD             204662        United States    Medium      \n",
       "22    USD             184662        United States    Medium      \n",
       "23    USD             179000        United States    Medium      \n",
       "24    USD             112000        United States    Medium      \n",
       "25    USD             115000        United States    Medium      \n",
       "26    USD              85000        United States    Medium      \n",
       "27    USD             225000        United States    Medium      \n",
       "28    USD             180000        United States    Medium      \n",
       "29    USD             175000        United States    Medium      \n",
       "30    USD             110000        United States    Medium      \n",
       "⋮     ⋮               ⋮             ⋮                ⋮           \n",
       "11058 INR              40481        India            Large       \n",
       "11059 HUF              35735        Hungary          Large       \n",
       "11060 EUR              45618        Croatia          Small       \n",
       "11061 USD              20000        Honduras         Small       \n",
       "11062 EUR              47899        Greece           Large       \n",
       "11063 GBP             112872        United Kingdom   Large       \n",
       "11064 GBP              76958        United Kingdom   Small       \n",
       "11065 GBP             109024        United Kingdom   Medium      \n",
       "11066 EUR             114047        United Kingdom   Small       \n",
       "11067 EUR              46759        France           Large       \n",
       "11068 EUR              70139        France           Large       \n",
       "11069 EUR              51321        France           Small       \n",
       "11070 EUR              39916        France           Medium      \n",
       "11071 EUR              42197        France           Small       \n",
       "11072 EUR              79833        Spain            Large       \n",
       "11073 EUR              38776        Spain            Medium      \n",
       "11074 DKK              45896        Denmark          Small       \n",
       "11075 EUR              47899        Germany          Large       \n",
       "11076 EUR              49268        Germany          Small       \n",
       "11077 EUR              54742        Germany          Large       \n",
       "11078 EUR              59303        Germany          Small       \n",
       "11079 EUR              15966        Germany          Small       \n",
       "11080 EUR              79833        Germany          Large       \n",
       "11081 EUR              62726        Germany          Small       \n",
       "11082 EUR             148261        Germany          Medium      \n",
       "11083 CAD              44753        Canada           Large       \n",
       "11084 USD              15000        Canada           Medium      \n",
       "11085 CAD             117104        Canada           Large       \n",
       "11086 EUR              74130        Austria          Large       \n",
       "11087 EUR              91237        Austria          Small       "
      ]
     },
     "metadata": {},
     "output_type": "display_data"
    }
   ],
   "source": [
    "df"
   ]
  },
  {
   "cell_type": "code",
   "execution_count": 28,
   "id": "714bd858",
   "metadata": {},
   "outputs": [
    {
     "data": {
      "text/html": [
       "0"
      ],
      "text/latex": [
       "0"
      ],
      "text/markdown": [
       "0"
      ],
      "text/plain": [
       "[1] 0"
      ]
     },
     "metadata": {},
     "output_type": "display_data"
    }
   ],
   "source": [
    "# Second table creation\n",
    "second_table_query <- \" CREATE TABLE salary (\n",
    "                        employee_id INT,\n",
    "                        salary DECIMAL(10, 2),\n",
    "                        salary_currency VARCHAR(3),\n",
    "                        salary_in_usd DECIMAL(10, 2),\n",
    "                        company_location VARCHAR(255),\n",
    "                        company_size VARCHAR(255),\n",
    "                        FOREIGN KEY (employee_id) REFERENCES employee(employee_id)\n",
    "                                                           \n",
    "                                              );\"\n",
    "#Execute the query:\n",
    "dbExecute(con, second_table_query)"
   ]
  },
  {
   "cell_type": "code",
   "execution_count": 29,
   "id": "2d88f3fd",
   "metadata": {},
   "outputs": [],
   "source": [
    "# Populating the table with data\n",
    "\n",
    "#This is our table name we created\n",
    "table_name <- \"salary\"\n",
    "\n",
    "#Write a query that will show the column names from the table we created\n",
    "query <- paste(\"SHOW COLUMNS FROM\", table_name)\n",
    "\n",
    "#Get the query and retrieve the column/field names from the database(con)\n",
    "db_columns <- dbGetQuery(con, query)$Field\n",
    "\n",
    "#Define the common columns between the CSV data (Column names) and the database (Table fields)\n",
    "common_columns <- intersect(colnames(df), db_columns)"
   ]
  },
  {
   "cell_type": "code",
   "execution_count": 30,
   "id": "0ce8d209",
   "metadata": {},
   "outputs": [
    {
     "data": {
      "text/html": [
       "<style>\n",
       ".list-inline {list-style: none; margin:0; padding: 0}\n",
       ".list-inline>li {display: inline-block}\n",
       ".list-inline>li:not(:last-child)::after {content: \"\\00b7\"; padding: 0 .5ex}\n",
       "</style>\n",
       "<ol class=list-inline><li>'employee_id'</li><li>'salary'</li><li>'salary_currency'</li><li>'salary_in_usd'</li><li>'company_location'</li><li>'company_size'</li></ol>\n"
      ],
      "text/latex": [
       "\\begin{enumerate*}\n",
       "\\item 'employee\\_id'\n",
       "\\item 'salary'\n",
       "\\item 'salary\\_currency'\n",
       "\\item 'salary\\_in\\_usd'\n",
       "\\item 'company\\_location'\n",
       "\\item 'company\\_size'\n",
       "\\end{enumerate*}\n"
      ],
      "text/markdown": [
       "1. 'employee_id'\n",
       "2. 'salary'\n",
       "3. 'salary_currency'\n",
       "4. 'salary_in_usd'\n",
       "5. 'company_location'\n",
       "6. 'company_size'\n",
       "\n",
       "\n"
      ],
      "text/plain": [
       "[1] \"employee_id\"      \"salary\"           \"salary_currency\"  \"salary_in_usd\"   \n",
       "[5] \"company_location\" \"company_size\"    "
      ]
     },
     "metadata": {},
     "output_type": "display_data"
    }
   ],
   "source": [
    "#These are the ONLY columns that we will transfer into the table.\n",
    "common_columns"
   ]
  },
  {
   "cell_type": "code",
   "execution_count": 31,
   "id": "b5d41a54",
   "metadata": {},
   "outputs": [],
   "source": [
    "#Create a subset of the original .csv data turtles with only the specified column names.\n",
    "df_subset <- df[, common_columns]"
   ]
  },
  {
   "cell_type": "code",
   "execution_count": 32,
   "id": "561d8850-83c2-4481-a48d-8b717d9204d7",
   "metadata": {},
   "outputs": [],
   "source": [
    "dbWriteTable(con, \"salary\", df_subset, append = TRUE, row.names = FALSE, overwrite = FALSE, null = \"NULL\")"
   ]
  },
  {
   "cell_type": "code",
   "execution_count": 38,
   "id": "394fc453-bf89-4a08-9abe-2d43f644d799",
   "metadata": {},
   "outputs": [
    {
     "ename": "ERROR",
     "evalue": "Error: No database selected [1046]\n",
     "output_type": "error",
     "traceback": [
      "Error: No database selected [1046]\nTraceback:\n",
      "1. dbGetQuery(con, query1)",
      "2. dbGetQuery(con, query1)",
      "3. .local(conn, statement, ...)",
      "4. dbSendQuery(conn, statement, ...)",
      "5. dbSendQuery(conn, statement, ...)",
      "6. .local(conn, statement, ...)",
      "7. dbSend(conn, statement, params, is_statement = FALSE, immediate = FALSE)",
      "8. new(\"MariaDBResult\", sql = statement, ptr = result_create(conn@ptr, \n .     statement, is_statement, immediate), bigint = conn@bigint, \n .     conn = conn)",
      "9. initialize(value, ...)",
      "10. initialize(value, ...)",
      "11. result_create(conn@ptr, statement, is_statement, immediate)"
     ]
    }
   ],
   "source": [
    "# Example Query\n",
    "\n",
    "query1 <- \"SELECT * \n",
    "           FROM salary\"\n",
    "\n",
    "# Execute the query\n",
    "result <- dbGetQuery(con, query1)\n",
    "\n",
    "# Print the result\n",
    "print(result)"
   ]
  },
  {
   "cell_type": "code",
   "execution_count": 35,
   "id": "58cbf160",
   "metadata": {},
   "outputs": [
    {
     "ename": "ERROR",
     "evalue": "Error in h(simpleError(msg, call)): error in evaluating the argument 'conn' in selecting a method for function 'dbDisconnect': object 'db' not found\n",
     "output_type": "error",
     "traceback": [
      "Error in h(simpleError(msg, call)): error in evaluating the argument 'conn' in selecting a method for function 'dbDisconnect': object 'db' not found\nTraceback:\n",
      "1. dbDisconnect(db)",
      "2. .handleSimpleError(function (cond) \n . .Internal(C_tryCatchHelper(addr, 1L, cond)), \"object 'db' not found\", \n .     base::quote(eval(expr, envir, enclos)))",
      "3. h(simpleError(msg, call))"
     ]
    }
   ],
   "source": [
    "#Close the database connection :)\n",
    "dbDisconnect(db)"
   ]
  },
  {
   "cell_type": "markdown",
   "id": "9c103358",
   "metadata": {},
   "source": [
    "**MySQL Workbench**<br>\n",
    "To export your database schema as a .PNG:<br>\n",
    "->Go to your EER Diagram<br>\n",
    "->File<br>\n",
    "->Export<br>\n",
    "->Export as .PNG"
   ]
  }
 ],
 "metadata": {
  "kernelspec": {
   "display_name": "R",
   "language": "R",
   "name": "ir"
  },
  "language_info": {
   "codemirror_mode": "r",
   "file_extension": ".r",
   "mimetype": "text/x-r-source",
   "name": "R",
   "pygments_lexer": "r",
   "version": "4.3.1"
  }
 },
 "nbformat": 4,
 "nbformat_minor": 5
}
