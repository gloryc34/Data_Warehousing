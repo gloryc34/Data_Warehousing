{
 "cells": [
  {
   "cell_type": "markdown",
   "id": "76827fdb",
   "metadata": {},
   "source": [
    "# Assignment #5 - Data Gathering and Warehousing - DSSA-5102\n",
    "\n",
    "Instructor: Melissa Laurino</br>\n",
    "Spring 2024</br>\n",
    "\n",
    "Name: Colin Glory\n",
    "</br>\n",
    "Date: 2/21/2024\n",
    "<br>\n",
    "<br>\n",
    "<b>Only Murders in the...Database?</b><br>\n",
    "An introduction to navigating SQL databases using R and Jupyter Notebook. <br>\n",
    "<br>\n",
    "Congrats! You have solved the murder from Assignment #4, let's practice more queries in SQL City! <br>\n",
    "<br>\n",
    "Your task for <b>Assignment #5</b> is to complete the following objectives:<br>\n",
    "<b>--</b>You are a data scientist that was hired by SQL City. Your objectives are as follows:<br>\n",
    "<b>---</b>Objective 1: The town is willing to fund more training for officers in SQL City based on the type of crime that is most committed. The training would help them identify the clues that indicate these two types upon arrival on a crime scene. As a data scientist, what crime type would you advise needs more training for officers in SQL city? What crime was committed the most in SQL City within the database date range? Save your query as a dataframe and quickly add a ggplot2 bar graph visual to support your recommendation.<br>\n",
    "<b>--</b>Objective 2: The town has also received more funding to encourage DOUBLE overtime for officers in SQL City during the month with the highest crime rate through out the date range of the database. What month would you advise the town to encourage officer overtime? <br>\n",
    "<b>--</b>Objective 3: To thank the officers for their extra training and overtime, the town will pay for their monthly gym membership. They want to give the officers the membership that the least amount of civilians have to avoid being recognized daily as the town heros. The membership can be used in any town. What membership does the town give them?<br><br>\n",
    "<b>--</b>Add detailed comments to explain EVERY query or SQL command you use while we are still learning and practicing. I have my steps outlined, but please add more cells inbetween for additional queries! There is no limit on the number of queries you can use. <br>\n",
    "<b>--</b>For each query include comments such as \"SELECT all records FROM table WHERE column name = X\"<br>\n",
    "<b>--</b>Answer any prompts in markdown cells.<br>\n",
    "\n",
    "Recommended Readings: Chapters 4-7 in Getting Started with SQL by Thomas Nield<br><br>\n",
    "\n",
    "Basic usage of database commands in R with SQLite library: https://rsqlite.r-dbi.org/\n",
    "SQL Dictionary: https://www.w3schools.com/sql/sql_ref_join.asp\n",
    "\n",
    "This fabulous database was created by @NUKnightLab on Github and can be found here: https://github.com/NUKnightLab/sql-mysteries\n"
   ]
  },
  {
   "cell_type": "code",
   "execution_count": 1,
   "id": "5e4ae281",
   "metadata": {},
   "outputs": [
    {
     "name": "stderr",
     "output_type": "stream",
     "text": [
      "Warning message:\n",
      "\"package 'RSQLite' was built under R version 4.3.2\"\n"
     ]
    }
   ],
   "source": [
    "library(\"RSQLite\")"
   ]
  },
  {
   "cell_type": "code",
   "execution_count": 2,
   "id": "89bc8e32",
   "metadata": {},
   "outputs": [],
   "source": [
    "#Connect to our .db file using library RSQLite:\n",
    "db <- dbConnect(dbDriver(\"SQLite\"), dbname = \"sql-murder-mystery.db\")"
   ]
  },
  {
   "cell_type": "code",
   "execution_count": 3,
   "id": "3850f72a",
   "metadata": {},
   "outputs": [
    {
     "name": "stdout",
     "output_type": "stream",
     "text": [
      "[1] \"crime_scene_report\"\n"
     ]
    },
    {
     "data": {
      "text/html": [
       "<style>\n",
       ".list-inline {list-style: none; margin:0; padding: 0}\n",
       ".list-inline>li {display: inline-block}\n",
       ".list-inline>li:not(:last-child)::after {content: \"\\00b7\"; padding: 0 .5ex}\n",
       "</style>\n",
       "<ol class=list-inline><li>'date'</li><li>'type'</li><li>'description'</li><li>'city'</li></ol>\n"
      ],
      "text/latex": [
       "\\begin{enumerate*}\n",
       "\\item 'date'\n",
       "\\item 'type'\n",
       "\\item 'description'\n",
       "\\item 'city'\n",
       "\\end{enumerate*}\n"
      ],
      "text/markdown": [
       "1. 'date'\n",
       "2. 'type'\n",
       "3. 'description'\n",
       "4. 'city'\n",
       "\n",
       "\n"
      ],
      "text/plain": [
       "[1] \"date\"        \"type\"        \"description\" \"city\"       "
      ]
     },
     "metadata": {},
     "output_type": "display_data"
    },
    {
     "name": "stdout",
     "output_type": "stream",
     "text": [
      "[1] \"drivers_license\"\n"
     ]
    },
    {
     "data": {
      "text/html": [
       "<style>\n",
       ".list-inline {list-style: none; margin:0; padding: 0}\n",
       ".list-inline>li {display: inline-block}\n",
       ".list-inline>li:not(:last-child)::after {content: \"\\00b7\"; padding: 0 .5ex}\n",
       "</style>\n",
       "<ol class=list-inline><li>'id'</li><li>'age'</li><li>'height'</li><li>'eye_color'</li><li>'hair_color'</li><li>'gender'</li><li>'plate_number'</li><li>'car_make'</li><li>'car_model'</li></ol>\n"
      ],
      "text/latex": [
       "\\begin{enumerate*}\n",
       "\\item 'id'\n",
       "\\item 'age'\n",
       "\\item 'height'\n",
       "\\item 'eye\\_color'\n",
       "\\item 'hair\\_color'\n",
       "\\item 'gender'\n",
       "\\item 'plate\\_number'\n",
       "\\item 'car\\_make'\n",
       "\\item 'car\\_model'\n",
       "\\end{enumerate*}\n"
      ],
      "text/markdown": [
       "1. 'id'\n",
       "2. 'age'\n",
       "3. 'height'\n",
       "4. 'eye_color'\n",
       "5. 'hair_color'\n",
       "6. 'gender'\n",
       "7. 'plate_number'\n",
       "8. 'car_make'\n",
       "9. 'car_model'\n",
       "\n",
       "\n"
      ],
      "text/plain": [
       "[1] \"id\"           \"age\"          \"height\"       \"eye_color\"    \"hair_color\"  \n",
       "[6] \"gender\"       \"plate_number\" \"car_make\"     \"car_model\"   "
      ]
     },
     "metadata": {},
     "output_type": "display_data"
    },
    {
     "name": "stdout",
     "output_type": "stream",
     "text": [
      "[1] \"Facebook_event_checkin\"\n"
     ]
    },
    {
     "data": {
      "text/html": [
       "<style>\n",
       ".list-inline {list-style: none; margin:0; padding: 0}\n",
       ".list-inline>li {display: inline-block}\n",
       ".list-inline>li:not(:last-child)::after {content: \"\\00b7\"; padding: 0 .5ex}\n",
       "</style>\n",
       "<ol class=list-inline><li>'person_id'</li><li>'event_id'</li><li>'event_name'</li><li>'date'</li></ol>\n"
      ],
      "text/latex": [
       "\\begin{enumerate*}\n",
       "\\item 'person\\_id'\n",
       "\\item 'event\\_id'\n",
       "\\item 'event\\_name'\n",
       "\\item 'date'\n",
       "\\end{enumerate*}\n"
      ],
      "text/markdown": [
       "1. 'person_id'\n",
       "2. 'event_id'\n",
       "3. 'event_name'\n",
       "4. 'date'\n",
       "\n",
       "\n"
      ],
      "text/plain": [
       "[1] \"person_id\"  \"event_id\"   \"event_name\" \"date\"      "
      ]
     },
     "metadata": {},
     "output_type": "display_data"
    },
    {
     "name": "stdout",
     "output_type": "stream",
     "text": [
      "[1] \"get_fit_now_check_in\"\n"
     ]
    },
    {
     "data": {
      "text/html": [
       "<style>\n",
       ".list-inline {list-style: none; margin:0; padding: 0}\n",
       ".list-inline>li {display: inline-block}\n",
       ".list-inline>li:not(:last-child)::after {content: \"\\00b7\"; padding: 0 .5ex}\n",
       "</style>\n",
       "<ol class=list-inline><li>'membership_id'</li><li>'check_in_date'</li><li>'check_in_time'</li><li>'check_out_time'</li></ol>\n"
      ],
      "text/latex": [
       "\\begin{enumerate*}\n",
       "\\item 'membership\\_id'\n",
       "\\item 'check\\_in\\_date'\n",
       "\\item 'check\\_in\\_time'\n",
       "\\item 'check\\_out\\_time'\n",
       "\\end{enumerate*}\n"
      ],
      "text/markdown": [
       "1. 'membership_id'\n",
       "2. 'check_in_date'\n",
       "3. 'check_in_time'\n",
       "4. 'check_out_time'\n",
       "\n",
       "\n"
      ],
      "text/plain": [
       "[1] \"membership_id\"  \"check_in_date\"  \"check_in_time\"  \"check_out_time\""
      ]
     },
     "metadata": {},
     "output_type": "display_data"
    },
    {
     "name": "stdout",
     "output_type": "stream",
     "text": [
      "[1] \"get_fit_now_member\"\n"
     ]
    },
    {
     "data": {
      "text/html": [
       "<style>\n",
       ".list-inline {list-style: none; margin:0; padding: 0}\n",
       ".list-inline>li {display: inline-block}\n",
       ".list-inline>li:not(:last-child)::after {content: \"\\00b7\"; padding: 0 .5ex}\n",
       "</style>\n",
       "<ol class=list-inline><li>'id'</li><li>'person_id'</li><li>'name'</li><li>'membership_start_date'</li><li>'membership_status'</li></ol>\n"
      ],
      "text/latex": [
       "\\begin{enumerate*}\n",
       "\\item 'id'\n",
       "\\item 'person\\_id'\n",
       "\\item 'name'\n",
       "\\item 'membership\\_start\\_date'\n",
       "\\item 'membership\\_status'\n",
       "\\end{enumerate*}\n"
      ],
      "text/markdown": [
       "1. 'id'\n",
       "2. 'person_id'\n",
       "3. 'name'\n",
       "4. 'membership_start_date'\n",
       "5. 'membership_status'\n",
       "\n",
       "\n"
      ],
      "text/plain": [
       "[1] \"id\"                    \"person_id\"             \"name\"                 \n",
       "[4] \"membership_start_date\" \"membership_status\"    "
      ]
     },
     "metadata": {},
     "output_type": "display_data"
    },
    {
     "name": "stdout",
     "output_type": "stream",
     "text": [
      "[1] \"income\"\n"
     ]
    },
    {
     "data": {
      "text/html": [
       "<style>\n",
       ".list-inline {list-style: none; margin:0; padding: 0}\n",
       ".list-inline>li {display: inline-block}\n",
       ".list-inline>li:not(:last-child)::after {content: \"\\00b7\"; padding: 0 .5ex}\n",
       "</style>\n",
       "<ol class=list-inline><li>'ssn'</li><li>'annual_income'</li></ol>\n"
      ],
      "text/latex": [
       "\\begin{enumerate*}\n",
       "\\item 'ssn'\n",
       "\\item 'annual\\_income'\n",
       "\\end{enumerate*}\n"
      ],
      "text/markdown": [
       "1. 'ssn'\n",
       "2. 'annual_income'\n",
       "\n",
       "\n"
      ],
      "text/plain": [
       "[1] \"ssn\"           \"annual_income\""
      ]
     },
     "metadata": {},
     "output_type": "display_data"
    },
    {
     "name": "stdout",
     "output_type": "stream",
     "text": [
      "[1] \"interview\"\n"
     ]
    },
    {
     "data": {
      "text/html": [
       "<style>\n",
       ".list-inline {list-style: none; margin:0; padding: 0}\n",
       ".list-inline>li {display: inline-block}\n",
       ".list-inline>li:not(:last-child)::after {content: \"\\00b7\"; padding: 0 .5ex}\n",
       "</style>\n",
       "<ol class=list-inline><li>'person_id'</li><li>'transcript'</li></ol>\n"
      ],
      "text/latex": [
       "\\begin{enumerate*}\n",
       "\\item 'person\\_id'\n",
       "\\item 'transcript'\n",
       "\\end{enumerate*}\n"
      ],
      "text/markdown": [
       "1. 'person_id'\n",
       "2. 'transcript'\n",
       "\n",
       "\n"
      ],
      "text/plain": [
       "[1] \"person_id\"  \"transcript\""
      ]
     },
     "metadata": {},
     "output_type": "display_data"
    },
    {
     "name": "stdout",
     "output_type": "stream",
     "text": [
      "[1] \"person\"\n"
     ]
    },
    {
     "data": {
      "text/html": [
       "<style>\n",
       ".list-inline {list-style: none; margin:0; padding: 0}\n",
       ".list-inline>li {display: inline-block}\n",
       ".list-inline>li:not(:last-child)::after {content: \"\\00b7\"; padding: 0 .5ex}\n",
       "</style>\n",
       "<ol class=list-inline><li>'id'</li><li>'name'</li><li>'license_id'</li><li>'address_number'</li><li>'address_street_name'</li><li>'ssn'</li></ol>\n"
      ],
      "text/latex": [
       "\\begin{enumerate*}\n",
       "\\item 'id'\n",
       "\\item 'name'\n",
       "\\item 'license\\_id'\n",
       "\\item 'address\\_number'\n",
       "\\item 'address\\_street\\_name'\n",
       "\\item 'ssn'\n",
       "\\end{enumerate*}\n"
      ],
      "text/markdown": [
       "1. 'id'\n",
       "2. 'name'\n",
       "3. 'license_id'\n",
       "4. 'address_number'\n",
       "5. 'address_street_name'\n",
       "6. 'ssn'\n",
       "\n",
       "\n"
      ],
      "text/plain": [
       "[1] \"id\"                  \"name\"                \"license_id\"         \n",
       "[4] \"address_number\"      \"address_street_name\" \"ssn\"                "
      ]
     },
     "metadata": {},
     "output_type": "display_data"
    },
    {
     "name": "stdout",
     "output_type": "stream",
     "text": [
      "[1] \"solution\"\n"
     ]
    },
    {
     "data": {
      "text/html": [
       "<style>\n",
       ".list-inline {list-style: none; margin:0; padding: 0}\n",
       ".list-inline>li {display: inline-block}\n",
       ".list-inline>li:not(:last-child)::after {content: \"\\00b7\"; padding: 0 .5ex}\n",
       "</style>\n",
       "<ol class=list-inline><li>'user'</li><li>'value'</li></ol>\n"
      ],
      "text/latex": [
       "\\begin{enumerate*}\n",
       "\\item 'user'\n",
       "\\item 'value'\n",
       "\\end{enumerate*}\n"
      ],
      "text/markdown": [
       "1. 'user'\n",
       "2. 'value'\n",
       "\n",
       "\n"
      ],
      "text/plain": [
       "[1] \"user\"  \"value\""
      ]
     },
     "metadata": {},
     "output_type": "display_data"
    }
   ],
   "source": [
    "#For a quick reference for tables and columns, refer to schema on Blackboard, or run code below:\n",
    "#What are the column names for each table? What table will help us get to the next clue?\n",
    "print(\"crime_scene_report\") \n",
    "dbListFields(db, 'crime_scene_report')\n",
    "print(\"drivers_license\") \n",
    "dbListFields(db, 'drivers_license')\n",
    "print(\"Facebook_event_checkin\") \n",
    "dbListFields(db, 'facebook_event_checkin')\n",
    "print(\"get_fit_now_check_in\") \n",
    "dbListFields(db, 'get_fit_now_check_in')\n",
    "print(\"get_fit_now_member\") \n",
    "dbListFields(db, 'get_fit_now_member')\n",
    "print(\"income\") \n",
    "dbListFields(db, 'income')\n",
    "print(\"interview\") \n",
    "dbListFields(db, 'interview')\n",
    "print(\"person\") \n",
    "dbListFields(db, 'person')\n",
    "print(\"solution\") \n",
    "dbListFields(db, 'solution')"
   ]
  },
  {
   "cell_type": "markdown",
   "id": "25e53d9b",
   "metadata": {},
   "source": [
    "We can use the COUNT command to explore our queries further. COUNT will count the number of records that meet the specified criteria.\n",
    "Additional examples using COUNT: https://www.w3schools.com/sql/sql_count.asp"
   ]
  },
  {
   "cell_type": "code",
   "execution_count": 4,
   "id": "20476b98",
   "metadata": {},
   "outputs": [
    {
     "data": {
      "text/html": [
       "<table class=\"dataframe\">\n",
       "<caption>A data.frame: 10 × 2</caption>\n",
       "<thead>\n",
       "\t<tr><th scope=col>city</th><th scope=col>count</th></tr>\n",
       "\t<tr><th scope=col>&lt;chr&gt;</th><th scope=col>&lt;int&gt;</th></tr>\n",
       "</thead>\n",
       "<tbody>\n",
       "\t<tr><td>SQL City    </td><td>9</td></tr>\n",
       "\t<tr><td>Murfreesboro</td><td>9</td></tr>\n",
       "\t<tr><td>Toledo      </td><td>8</td></tr>\n",
       "\t<tr><td>Jersey City </td><td>8</td></tr>\n",
       "\t<tr><td>Evansville  </td><td>8</td></tr>\n",
       "\t<tr><td>Duluth      </td><td>8</td></tr>\n",
       "\t<tr><td>Wilmington  </td><td>7</td></tr>\n",
       "\t<tr><td>Waterbury   </td><td>7</td></tr>\n",
       "\t<tr><td>Reno        </td><td>7</td></tr>\n",
       "\t<tr><td>Portsmouth  </td><td>7</td></tr>\n",
       "</tbody>\n",
       "</table>\n"
      ],
      "text/latex": [
       "A data.frame: 10 × 2\n",
       "\\begin{tabular}{ll}\n",
       " city & count\\\\\n",
       " <chr> & <int>\\\\\n",
       "\\hline\n",
       "\t SQL City     & 9\\\\\n",
       "\t Murfreesboro & 9\\\\\n",
       "\t Toledo       & 8\\\\\n",
       "\t Jersey City  & 8\\\\\n",
       "\t Evansville   & 8\\\\\n",
       "\t Duluth       & 8\\\\\n",
       "\t Wilmington   & 7\\\\\n",
       "\t Waterbury    & 7\\\\\n",
       "\t Reno         & 7\\\\\n",
       "\t Portsmouth   & 7\\\\\n",
       "\\end{tabular}\n"
      ],
      "text/markdown": [
       "\n",
       "A data.frame: 10 × 2\n",
       "\n",
       "| city &lt;chr&gt; | count &lt;int&gt; |\n",
       "|---|---|\n",
       "| SQL City     | 9 |\n",
       "| Murfreesboro | 9 |\n",
       "| Toledo       | 8 |\n",
       "| Jersey City  | 8 |\n",
       "| Evansville   | 8 |\n",
       "| Duluth       | 8 |\n",
       "| Wilmington   | 7 |\n",
       "| Waterbury    | 7 |\n",
       "| Reno         | 7 |\n",
       "| Portsmouth   | 7 |\n",
       "\n"
      ],
      "text/plain": [
       "   city         count\n",
       "1  SQL City     9    \n",
       "2  Murfreesboro 9    \n",
       "3  Toledo       8    \n",
       "4  Jersey City  8    \n",
       "5  Evansville   8    \n",
       "6  Duluth       8    \n",
       "7  Wilmington   7    \n",
       "8  Waterbury    7    \n",
       "9  Reno         7    \n",
       "10 Portsmouth   7    "
      ]
     },
     "metadata": {},
     "output_type": "display_data"
    }
   ],
   "source": [
    "#Practice analyzing COUNTS in data tables with SQL queries:\n",
    "#Brainstorming for Objective 1\n",
    "#We can find the top ten cities within our Murder Mystery database that had the most crimes by using the COUNT SQL command.\n",
    "#SELECT the cities that have the most counts within the table crime_scene_report and\n",
    "#GROUP the results BY city and ORDER BY a DESC count, only show a limit of 10 records:\n",
    "practice_cities <- dbSendQuery(db, \"SELECT city, COUNT(*) as count\n",
    "                            From crime_scene_report\n",
    "                            GROUP BY city\n",
    "                            ORDER BY count DESC\n",
    "                            LIMIT 10\")\n",
    "dbFetch(practice_cities)\n",
    "\n",
    "#Looks like SQL City and Murfeesboro have the highest number of crimes! \n",
    "\n",
    "#Use COUNT(*) as count to determine the answers to the objectives below. "
   ]
  },
  {
   "cell_type": "markdown",
   "id": "93702940",
   "metadata": {},
   "source": [
    "<b>Objective 1:</b> The town is willing to fund more training for officers in SQL City based on the type of crime that is most committed. The training would help them identify the clues that indicate these two types upon arrival on a crime scene. As a data scientist, what crime type would you advise needs more training for officers in SQL city? What crime was committed the most in SQL City within the database date range? Save your query as a dataframe and quickly add a ggplot2 bar graph visual to support your recommendation."
   ]
  },
  {
   "cell_type": "code",
   "execution_count": 5,
   "id": "2079946e",
   "metadata": {},
   "outputs": [],
   "source": [
    "#Quick graphing library for a visual for objective 1:\n",
    "library('ggplot2')"
   ]
  },
  {
   "cell_type": "code",
   "execution_count": 7,
   "id": "dc9a43c8",
   "metadata": {},
   "outputs": [
    {
     "name": "stderr",
     "output_type": "stream",
     "text": [
      "Warning message:\n",
      "\"Closing open result set, pending rows\"\n"
     ]
    },
    {
     "name": "stdout",
     "output_type": "stream",
     "text": [
      "     type count\n",
      "1  murder     3\n",
      "2 assault     2\n",
      "3   theft     1\n",
      "4 robbery     1\n",
      "5 bribery     1\n",
      "6   arson     1\n"
     ]
    }
   ],
   "source": [
    "objective1 <- dbSendQuery(db, \"SELECT type, COUNT(*) as count\n",
    "                            From crime_scene_report\n",
    "                            WHERE city='SQL City'\n",
    "                            GROUP BY type\n",
    "                            ORDER BY count DESC\n",
    "                            LIMIT 10\n",
    "                                \")\n",
    "#Save our query into a dataframe that we can use to visualize results in ggplot2:\n",
    "objective1_dataframe <- dbFetch(objective1)\n",
    "print(objective1_dataframe)"
   ]
  },
  {
   "cell_type": "code",
   "execution_count": 8,
   "id": "e99bfad0",
   "metadata": {},
   "outputs": [
    {
     "data": {
      "image/png": "[encoded data removed]",
      "text/plain": [
       "plot without title"
      ]
     },
     "metadata": {
      "image/png": {
       "height": 420,
       "width": 420
      }
     },
     "output_type": "display_data"
    }
   ],
   "source": [
    "#Graph our results:\n",
    "\n",
    "ggplot(objective1_dataframe, aes(x = type, y = count)) +\n",
    "  geom_bar(stat = \"identity\", fill = \"skyblue\") +\n",
    "  labs(title = \"Bar Graph\",\n",
    "       x = \"Type\",\n",
    "       y = \"Count\")\n"
   ]
  },
  {
   "cell_type": "markdown",
   "id": "a8007ef0",
   "metadata": {},
   "source": [
    "Answer: Murder would be the highest crime category, so that's where the training needs to go to."
   ]
  },
  {
   "cell_type": "markdown",
   "id": "f8df6bf8",
   "metadata": {},
   "source": [
    "<b>Objective 2:</b> The town has also received more funding to encourage DOUBLE overtime for officers in SQL City during the month with the highest crime rate through out the date range of the database. What month would you advise the town to encourage officer overtime?"
   ]
  },
  {
   "cell_type": "code",
   "execution_count": 16,
   "id": "02dcba2e",
   "metadata": {},
   "outputs": [
    {
     "name": "stderr",
     "output_type": "stream",
     "text": [
      "Warning message:\n",
      "\"Closing open result set, pending rows\"\n"
     ]
    },
    {
     "data": {
      "text/html": [
       "<table class=\"dataframe\">\n",
       "<caption>A data.frame: 7 × 3</caption>\n",
       "<thead>\n",
       "\t<tr><th scope=col>month</th><th scope=col>type</th><th scope=col>count</th></tr>\n",
       "\t<tr><th scope=col>&lt;chr&gt;</th><th scope=col>&lt;chr&gt;</th><th scope=col>&lt;int&gt;</th></tr>\n",
       "</thead>\n",
       "<tbody>\n",
       "\t<tr><td>2018-01</td><td>assault</td><td>2</td></tr>\n",
       "\t<tr><td>2018-02</td><td>murder </td><td>2</td></tr>\n",
       "\t<tr><td>2017-07</td><td>theft  </td><td>1</td></tr>\n",
       "\t<tr><td>2017-08</td><td>arson  </td><td>1</td></tr>\n",
       "\t<tr><td>2017-11</td><td>robbery</td><td>1</td></tr>\n",
       "\t<tr><td>2018-01</td><td>bribery</td><td>1</td></tr>\n",
       "\t<tr><td>2018-01</td><td>murder </td><td>1</td></tr>\n",
       "</tbody>\n",
       "</table>\n"
      ],
      "text/latex": [
       "A data.frame: 7 × 3\n",
       "\\begin{tabular}{lll}\n",
       " month & type & count\\\\\n",
       " <chr> & <chr> & <int>\\\\\n",
       "\\hline\n",
       "\t 2018-01 & assault & 2\\\\\n",
       "\t 2018-02 & murder  & 2\\\\\n",
       "\t 2017-07 & theft   & 1\\\\\n",
       "\t 2017-08 & arson   & 1\\\\\n",
       "\t 2017-11 & robbery & 1\\\\\n",
       "\t 2018-01 & bribery & 1\\\\\n",
       "\t 2018-01 & murder  & 1\\\\\n",
       "\\end{tabular}\n"
      ],
      "text/markdown": [
       "\n",
       "A data.frame: 7 × 3\n",
       "\n",
       "| month &lt;chr&gt; | type &lt;chr&gt; | count &lt;int&gt; |\n",
       "|---|---|---|\n",
       "| 2018-01 | assault | 2 |\n",
       "| 2018-02 | murder  | 2 |\n",
       "| 2017-07 | theft   | 1 |\n",
       "| 2017-08 | arson   | 1 |\n",
       "| 2017-11 | robbery | 1 |\n",
       "| 2018-01 | bribery | 1 |\n",
       "| 2018-01 | murder  | 1 |\n",
       "\n"
      ],
      "text/plain": [
       "  month   type    count\n",
       "1 2018-01 assault 2    \n",
       "2 2018-02 murder  2    \n",
       "3 2017-07 theft   1    \n",
       "4 2017-08 arson   1    \n",
       "5 2017-11 robbery 1    \n",
       "6 2018-01 bribery 1    \n",
       "7 2018-01 murder  1    "
      ]
     },
     "metadata": {},
     "output_type": "display_data"
    }
   ],
   "source": [
    "objective2 <-  dbSendQuery(db, \"SELECT strftime('%Y-%m', DATE(substr(date, 1, 4) || '-' || substr(date, 5, 2) || '-' || substr(date, 7, 2))) AS month,\n",
    "                                       type,\n",
    "                                       COUNT(*) AS count\n",
    "                                FROM crime_scene_report\n",
    "                                WHERE city = 'SQL City'\n",
    "                                GROUP BY month, type\n",
    "                                ORDER BY count DESC\n",
    "\n",
    "                                \")\n",
    "dbFetch(objective2)"
   ]
  },
  {
   "cell_type": "markdown",
   "id": "b5524834",
   "metadata": {},
   "source": [
    "Answer: Based on the results, I would suggest Jan. and Feb."
   ]
  },
  {
   "cell_type": "markdown",
   "id": "51313b07",
   "metadata": {},
   "source": [
    "<b>Objective 3:</b> To thank the officers for their extra training and overtime, the town will pay for their monthly gym membership. They want to give the officers the membership that the least amount of civilians have to avoid being recognized daily as the town heros. The membership can be used in any town. What membership does the town give them?"
   ]
  },
  {
   "cell_type": "code",
   "execution_count": 18,
   "id": "317f86a1",
   "metadata": {},
   "outputs": [
    {
     "name": "stderr",
     "output_type": "stream",
     "text": [
      "Warning message:\n",
      "\"Closing open result set, pending rows\"\n"
     ]
    },
    {
     "data": {
      "text/html": [
       "<table class=\"dataframe\">\n",
       "<caption>A data.frame: 3 × 2</caption>\n",
       "<thead>\n",
       "\t<tr><th scope=col>membership_status</th><th scope=col>count</th></tr>\n",
       "\t<tr><th scope=col>&lt;chr&gt;</th><th scope=col>&lt;int&gt;</th></tr>\n",
       "</thead>\n",
       "<tbody>\n",
       "\t<tr><td>regular</td><td>53</td></tr>\n",
       "\t<tr><td>silver </td><td>63</td></tr>\n",
       "\t<tr><td>gold   </td><td>68</td></tr>\n",
       "</tbody>\n",
       "</table>\n"
      ],
      "text/latex": [
       "A data.frame: 3 × 2\n",
       "\\begin{tabular}{ll}\n",
       " membership\\_status & count\\\\\n",
       " <chr> & <int>\\\\\n",
       "\\hline\n",
       "\t regular & 53\\\\\n",
       "\t silver  & 63\\\\\n",
       "\t gold    & 68\\\\\n",
       "\\end{tabular}\n"
      ],
      "text/markdown": [
       "\n",
       "A data.frame: 3 × 2\n",
       "\n",
       "| membership_status &lt;chr&gt; | count &lt;int&gt; |\n",
       "|---|---|\n",
       "| regular | 53 |\n",
       "| silver  | 63 |\n",
       "| gold    | 68 |\n",
       "\n"
      ],
      "text/plain": [
       "  membership_status count\n",
       "1 regular           53   \n",
       "2 silver            63   \n",
       "3 gold              68   "
      ]
     },
     "metadata": {},
     "output_type": "display_data"
    }
   ],
   "source": [
    "objective3 <- dbSendQuery(db, \"SELECT membership_status, COUNT(*) as count\n",
    "                               FROM get_fit_now_member\n",
    "                               GROUP BY membership_status\n",
    "                               ORDER BY count ASC\n",
    "                          \")\n",
    "\n",
    "dbFetch(objective3)"
   ]
  },
  {
   "cell_type": "markdown",
   "id": "d3519f15",
   "metadata": {},
   "source": [
    "Answer: Based on the results, the officers should get the regular membership due to it being the lowest counted tier."
   ]
  },
  {
   "cell_type": "code",
   "execution_count": 19,
   "id": "68e82785",
   "metadata": {},
   "outputs": [],
   "source": [
    "#Disconnect from the database. Always remember to disconnect :) \n",
    "\n"
   ]
  },
  {
   "cell_type": "code",
   "execution_count": null,
   "id": "7303aca9-0ad5-4bfb-8f1d-35b5f01fdce2",
   "metadata": {},
   "outputs": [],
   "source": []
  }
 ],
 "metadata": {
  "kernelspec": {
   "display_name": "R",
   "language": "R",
   "name": "ir"
  },
  "language_info": {
   "codemirror_mode": "r",
   "file_extension": ".r",
   "mimetype": "text/x-r-source",
   "name": "R",
   "pygments_lexer": "r",
   "version": "4.3.1"
  }
 },
 "nbformat": 4,
 "nbformat_minor": 5
}
