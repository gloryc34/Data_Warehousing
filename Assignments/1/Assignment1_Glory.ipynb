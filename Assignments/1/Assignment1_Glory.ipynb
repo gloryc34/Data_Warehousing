{
 "cells": [
  {
   "cell_type": "markdown",
   "id": "c825ca7c",
   "metadata": {},
   "source": [
    "# Assignment #1 - Data Gathering and Warehousing - DSSA-5102"
   ]
  },
  {
   "cell_type": "markdown",
   "id": "3e792669",
   "metadata": {},
   "source": [
    "Instructor: Melissa Laurino<br>\n",
    "Spring 2024"
   ]
  },
  {
   "cell_type": "markdown",
   "id": "db9fe204",
   "metadata": {},
   "source": [
    "Name: Colin Glory\n",
    "<br>\n",
    "Date: 1/19/2024"
   ]
  },
  {
   "cell_type": "markdown",
   "id": "292e9143",
   "metadata": {},
   "source": [
    "<b>Data. Is. Everywhere.</b> <br>\n",
    "Our first objective is to locate and explore <b>TWO</b> datasets about something you are passionate about, or related to a field you would like to work in. Our semester plan is <i>try</i> to work with the same dataset through out the semester. You can find and explore as many datasets as you wish, but Assignment #2 will focus on the one you like the best.\n",
    "There are many great websites that offer public datasets avaialable to download. Examples include but are not limited to:\n",
    "<br>\n",
    "https://data.gov/ - Data.gov has many government owened public datasets.<br>\n",
    "https://data.worldbank.org/ - World Bank Data has world economic, social, and environmental data.<br>\n",
    "https://datasetsearch.research.google.com/ - Google Dataset Search: Many of these available datasets link to published studies available on Google Scholar in many fields.<br>\n",
    "https://www.kaggle.com/datasets - Kaggle Datasets is a platform for sharing datasets. Anyone can upload to this website.<br>\n",
    "https://www.census.gov/ - U.S. Census Bureau: Data on people, places and econoy for the United States.\n",
    "https://github.com/ - GitHub hosts datasets and completed projects.<br>\n",
    "https://fred.stlouisfed.org/ - Federal Reserve Economic Data (FRED) - Financial and economic data.<br>\n",
    "https://data.cdc.gov/ - Explore the various data collected by the CDC.<br>\n",
    "https://www.ncei.noaa.gov/cdo-web/ - NOAA climate and ocean data. <br>\n",
    "<br>\n",
    "In addition to these resources, occasionally local organizations may be able to provide you with data, or maybe even your own company! Your data source can come from a personal connection, but please be mindful of any data agreements or approvals you may need. If you need approval to use data from your place of employment, please specify that with the instructor so we can ensure no violations to your data agreement will be made this semester."
   ]
  },
  {
   "cell_type": "markdown",
   "id": "6c5eadb4",
   "metadata": {},
   "source": [
    "# Dataset #1"
   ]
  },
  {
   "cell_type": "markdown",
   "id": "0bf03c2c",
   "metadata": {},
   "source": [
    "<b>Dataset name: Marvel Comics</b><br>\n",
    "<b>Company/Government Organization: Kaggle</b><br>\n",
    "Download link: https://www.kaggle.com/datasets/deepcontractor/marvel-comic-books?resource=download"
   ]
  },
  {
   "cell_type": "markdown",
   "id": "55a352bf",
   "metadata": {},
   "source": [
    "Load any necessary libraries or packages:"
   ]
  },
  {
   "cell_type": "code",
   "execution_count": 1,
   "id": "f274f2ae",
   "metadata": {
    "scrolled": true
   },
   "outputs": [
    {
     "name": "stderr",
     "output_type": "stream",
     "text": [
      "── \u001b[1mAttaching core tidyverse packages\u001b[22m ──────────────────────── tidyverse 2.0.0 ──\n",
      "\u001b[32m✔\u001b[39m \u001b[34mdplyr    \u001b[39m 1.1.3     \u001b[32m✔\u001b[39m \u001b[34mreadr    \u001b[39m 2.1.4\n",
      "\u001b[32m✔\u001b[39m \u001b[34mforcats  \u001b[39m 1.0.0     \u001b[32m✔\u001b[39m \u001b[34mstringr  \u001b[39m 1.5.0\n",
      "\u001b[32m✔\u001b[39m \u001b[34mggplot2  \u001b[39m 3.4.4     \u001b[32m✔\u001b[39m \u001b[34mtibble   \u001b[39m 3.2.1\n",
      "\u001b[32m✔\u001b[39m \u001b[34mlubridate\u001b[39m 1.9.2     \u001b[32m✔\u001b[39m \u001b[34mtidyr    \u001b[39m 1.3.0\n",
      "\u001b[32m✔\u001b[39m \u001b[34mpurrr    \u001b[39m 1.0.2     \n",
      "── \u001b[1mConflicts\u001b[22m ────────────────────────────────────────── tidyverse_conflicts() ──\n",
      "\u001b[31m✖\u001b[39m \u001b[34mdplyr\u001b[39m::\u001b[32mfilter()\u001b[39m masks \u001b[34mstats\u001b[39m::filter()\n",
      "\u001b[31m✖\u001b[39m \u001b[34mdplyr\u001b[39m::\u001b[32mlag()\u001b[39m    masks \u001b[34mstats\u001b[39m::lag()\n",
      "\u001b[36mℹ\u001b[39m Use the conflicted package (\u001b[3m\u001b[34m<http://conflicted.r-lib.org/>\u001b[39m\u001b[23m) to force all conflicts to become errors\n"
     ]
    }
   ],
   "source": [
    "#My example libraries are below, but edit as needed to fit your dataset:\n",
    "library(tidyverse) #Reading data\n",
    "library(lubridate) #Reading and manipulating dates and times\n",
    "library(readr) #Reading the CSV data file\n",
    "library(ggplot2) #Graphing"
   ]
  },
  {
   "cell_type": "code",
   "execution_count": null,
   "id": "0dbdaf97",
   "metadata": {},
   "outputs": [],
   "source": [
    "# No additional libraries or packages needed"
   ]
  },
  {
   "cell_type": "markdown",
   "id": "79c86913",
   "metadata": {},
   "source": [
    "Load your dataset into the notebook below:"
   ]
  },
  {
   "cell_type": "code",
   "execution_count": 9,
   "id": "8dbcdffd",
   "metadata": {},
   "outputs": [],
   "source": [
    "#Be sure to document each line of code like the above example.\n",
    "#Documenting each line of code is helpful when revisiting assignments later in the semester."
   ]
  },
  {
   "cell_type": "code",
   "execution_count": 4,
   "id": "2fc0d288",
   "metadata": {},
   "outputs": [],
   "source": [
    "# Loading in dataset and setting it to dataframe 'comics'\n",
    "comics <- read.csv(\"Marvel_Comics.csv\")"
   ]
  },
  {
   "cell_type": "markdown",
   "id": "741d90c8",
   "metadata": {},
   "source": [
    "What are the unique columns or variables present in your dataset? How many rows are there?"
   ]
  },
  {
   "cell_type": "code",
   "execution_count": 8,
   "id": "1ed08a0e",
   "metadata": {},
   "outputs": [
    {
     "data": {
      "text/html": [
       "<table class=\"dataframe\">\n",
       "<caption>A data.frame: 6 × 12</caption>\n",
       "<thead>\n",
       "\t<tr><th></th><th scope=col>comic_name</th><th scope=col>active_years</th><th scope=col>issue_title</th><th scope=col>publish_date</th><th scope=col>issue_description</th><th scope=col>penciler</th><th scope=col>writer</th><th scope=col>cover_artist</th><th scope=col>Imprint</th><th scope=col>Format</th><th scope=col>Rating</th><th scope=col>Price</th></tr>\n",
       "\t<tr><th></th><th scope=col>&lt;chr&gt;</th><th scope=col>&lt;chr&gt;</th><th scope=col>&lt;chr&gt;</th><th scope=col>&lt;chr&gt;</th><th scope=col>&lt;chr&gt;</th><th scope=col>&lt;chr&gt;</th><th scope=col>&lt;chr&gt;</th><th scope=col>&lt;chr&gt;</th><th scope=col>&lt;chr&gt;</th><th scope=col>&lt;chr&gt;</th><th scope=col>&lt;chr&gt;</th><th scope=col>&lt;chr&gt;</th></tr>\n",
       "</thead>\n",
       "<tbody>\n",
       "\t<tr><th scope=row>1</th><td>A Year of Marvels: April Infinite Comic (2016)   </td><td>(2016)</td><td>A Year of Marvels: April Infinite Comic (2016) #1   </td><td>April 01, 2016   </td><td>The Infinite Comic that will have everyone talking! Full of fun, heart, and pranks, this is one folks'll be talking about for years!                                                                                                                                                                                                               </td><td>Yves Bigerel             </td><td>Yves Bigerel           </td><td>Jamal Campbell</td><td> Marvel Universe</td><td> Infinite Comic</td><td> Rated T+</td><td> Free</td></tr>\n",
       "\t<tr><th scope=row>2</th><td><span style=white-space:pre-wrap>A Year of Marvels: August Infinite Comic (2016)  </span></td><td>(2016)</td><td><span style=white-space:pre-wrap>A Year of Marvels: August Infinite Comic (2016) #1  </span></td><td><span style=white-space:pre-wrap>August 10, 2016  </span></td><td><span style=white-space:pre-wrap>It’s August, and Nick Fury is just in time to attend Japan’s Bon Festival…but he’s not here to celebrate. Not when an illegal weapons auction is about to begin! From Chad Bowers &amp; Chris Sims (X-MEN ’92) and Brian Level!                                                                                                                        </span></td><td><span style=white-space:pre-wrap>Jamal Campbell           </span></td><td>Chris Sims, Chad Bowers</td><td><span style=white-space:pre-wrap>None          </span></td><td> Marvel Universe</td><td> Infinite Comic</td><td><span style=white-space:pre-wrap>None     </span></td><td> Free</td></tr>\n",
       "\t<tr><th scope=row>3</th><td>A Year of Marvels: February Infinite Comic (2016)</td><td>(2016)</td><td>A Year of Marvels: February Infinite Comic (2016) #1</td><td>February 10, 2016</td><td>Join us in a brand new Marvel comics adventure as your favorite heroes journey through the calendar year one month at a time! It’s February and Peter Parker’s got a hot date, but the old Parker luck hits hard…and so does the bank-robbing villain The Vulture! It’s a tale of romance, adventure, and punching!                                </td><td>Danilo S. Beyruth, M Mast</td><td>Ryan North             </td><td>None          </td><td> Marvel Universe</td><td> Infinite Comic</td><td> Rated T+</td><td> Free</td></tr>\n",
       "\t<tr><th scope=row>4</th><td><span style=white-space:pre-wrap>A Year of Marvels: July Infinite Comic (2016)    </span></td><td>(2016)</td><td><span style=white-space:pre-wrap>A Year of Marvels: July Infinite Comic (2016) #1    </span></td><td><span style=white-space:pre-wrap>June 29, 2016    </span></td><td><span style=white-space:pre-wrap>Celebrating the Fourth of July is complicated enough for a patriotic symbol turned soviet assassin, but then Hydra agents had to go and rob the Winter Soldier’s secret storage locker. Who sent them? What do they want? Bucky doesn’t care — he just wants his #$%&amp; back.                                                                        </span></td><td><span style=white-space:pre-wrap>Juanan Ramirez           </span></td><td><span style=white-space:pre-wrap>Chuck Wendig           </span></td><td>Jamal Campbell</td><td> Marvel Universe</td><td> Infinite Comic</td><td><span style=white-space:pre-wrap>None     </span></td><td> Free</td></tr>\n",
       "\t<tr><th scope=row>5</th><td>A Year of Marvels: June Infinite Comic (2016)    </td><td>(2016)</td><td>A Year of Marvels: June Infinite Comic (2016) #1    </td><td>June 15, 2016    </td><td>Sam Alexander’s finding it hard to cope with the fact that his dad is M.I.A. in the far reaches of space. Luckily, this Father’s Day, Nova’s got the chance to help former New Warrior Midnight’s Fire put his family back together. But when Iron Man shows up to inform his young teammate he’s backing the wrong horse, will Nova cool his jets?</td><td>Diego Olortegui          </td><td>Paul Allor             </td><td>Jamal Campbell</td><td> Marvel Universe</td><td> Infinite Comic</td><td>None     </td><td> Free</td></tr>\n",
       "\t<tr><th scope=row>6</th><td>A Year of Marvels: March Infinite Comic (2016)   </td><td>(2016)</td><td>A Year of Marvels: March Infinite Comic (2016) #1   </td><td>March 09, 2016   </td><td>When business is down in March, Scott Lang’s Ant-Man Security Solutions will take just about any job offered to them- including stealing back stolen goods! But all is not as it seems! Join writer Amy Chu and artist Ryan Browne as they team together for this Spring Break themed heist!                                                       </td><td>Ryan Browne              </td><td>Amy Chu                </td><td>Jamal Campbell</td><td> Marvel Universe</td><td> Infinite Comic</td><td>None     </td><td> Free</td></tr>\n",
       "</tbody>\n",
       "</table>\n"
      ],
      "text/latex": [
       "A data.frame: 6 × 12\n",
       "\\begin{tabular}{r|llllllllllll}\n",
       "  & comic\\_name & active\\_years & issue\\_title & publish\\_date & issue\\_description & penciler & writer & cover\\_artist & Imprint & Format & Rating & Price\\\\\n",
       "  & <chr> & <chr> & <chr> & <chr> & <chr> & <chr> & <chr> & <chr> & <chr> & <chr> & <chr> & <chr>\\\\\n",
       "\\hline\n",
       "\t1 & A Year of Marvels: April Infinite Comic (2016)    & (2016) & A Year of Marvels: April Infinite Comic (2016) \\#1    & April 01, 2016    & The Infinite Comic that will have everyone talking! Full of fun, heart, and pranks, this is one folks'll be talking about for years!                                                                                                                                                                                                                & Yves Bigerel              & Yves Bigerel            & Jamal Campbell &  Marvel Universe &  Infinite Comic &  Rated T+ &  Free\\\\\n",
       "\t2 & A Year of Marvels: August Infinite Comic (2016)   & (2016) & A Year of Marvels: August Infinite Comic (2016) \\#1   & August 10, 2016   & It’s August, and Nick Fury is just in time to attend Japan’s Bon Festival…but he’s not here to celebrate. Not when an illegal weapons auction is about to begin! From Chad Bowers \\& Chris Sims (X-MEN ’92) and Brian Level!                                                                                                                         & Jamal Campbell            & Chris Sims, Chad Bowers & None           &  Marvel Universe &  Infinite Comic & None      &  Free\\\\\n",
       "\t3 & A Year of Marvels: February Infinite Comic (2016) & (2016) & A Year of Marvels: February Infinite Comic (2016) \\#1 & February 10, 2016 & Join us in a brand new Marvel comics adventure as your favorite heroes journey through the calendar year one month at a time! It’s February and Peter Parker’s got a hot date, but the old Parker luck hits hard…and so does the bank-robbing villain The Vulture! It’s a tale of romance, adventure, and punching!                                 & Danilo S. Beyruth, M Mast & Ryan North              & None           &  Marvel Universe &  Infinite Comic &  Rated T+ &  Free\\\\\n",
       "\t4 & A Year of Marvels: July Infinite Comic (2016)     & (2016) & A Year of Marvels: July Infinite Comic (2016) \\#1     & June 29, 2016     & Celebrating the Fourth of July is complicated enough for a patriotic symbol turned soviet assassin, but then Hydra agents had to go and rob the Winter Soldier’s secret storage locker. Who sent them? What do they want? Bucky doesn’t care — he just wants his \\#\\$\\%\\& back.                                                                         & Juanan Ramirez            & Chuck Wendig            & Jamal Campbell &  Marvel Universe &  Infinite Comic & None      &  Free\\\\\n",
       "\t5 & A Year of Marvels: June Infinite Comic (2016)     & (2016) & A Year of Marvels: June Infinite Comic (2016) \\#1     & June 15, 2016     & Sam Alexander’s finding it hard to cope with the fact that his dad is M.I.A. in the far reaches of space. Luckily, this Father’s Day, Nova’s got the chance to help former New Warrior Midnight’s Fire put his family back together. But when Iron Man shows up to inform his young teammate he’s backing the wrong horse, will Nova cool his jets? & Diego Olortegui           & Paul Allor              & Jamal Campbell &  Marvel Universe &  Infinite Comic & None      &  Free\\\\\n",
       "\t6 & A Year of Marvels: March Infinite Comic (2016)    & (2016) & A Year of Marvels: March Infinite Comic (2016) \\#1    & March 09, 2016    & When business is down in March, Scott Lang’s Ant-Man Security Solutions will take just about any job offered to them- including stealing back stolen goods! But all is not as it seems! Join writer Amy Chu and artist Ryan Browne as they team together for this Spring Break themed heist!                                                        & Ryan Browne               & Amy Chu                 & Jamal Campbell &  Marvel Universe &  Infinite Comic & None      &  Free\\\\\n",
       "\\end{tabular}\n"
      ],
      "text/markdown": [
       "\n",
       "A data.frame: 6 × 12\n",
       "\n",
       "| <!--/--> | comic_name &lt;chr&gt; | active_years &lt;chr&gt; | issue_title &lt;chr&gt; | publish_date &lt;chr&gt; | issue_description &lt;chr&gt; | penciler &lt;chr&gt; | writer &lt;chr&gt; | cover_artist &lt;chr&gt; | Imprint &lt;chr&gt; | Format &lt;chr&gt; | Rating &lt;chr&gt; | Price &lt;chr&gt; |\n",
       "|---|---|---|---|---|---|---|---|---|---|---|---|---|\n",
       "| 1 | A Year of Marvels: April Infinite Comic (2016)    | (2016) | A Year of Marvels: April Infinite Comic (2016) #1    | April 01, 2016    | The Infinite Comic that will have everyone talking! Full of fun, heart, and pranks, this is one folks'll be talking about for years!                                                                                                                                                                                                                | Yves Bigerel              | Yves Bigerel            | Jamal Campbell |  Marvel Universe |  Infinite Comic |  Rated T+ |  Free |\n",
       "| 2 | A Year of Marvels: August Infinite Comic (2016)   | (2016) | A Year of Marvels: August Infinite Comic (2016) #1   | August 10, 2016   | It’s August, and Nick Fury is just in time to attend Japan’s Bon Festival…but he’s not here to celebrate. Not when an illegal weapons auction is about to begin! From Chad Bowers &amp; Chris Sims (X-MEN ’92) and Brian Level!                                                                                                                         | Jamal Campbell            | Chris Sims, Chad Bowers | None           |  Marvel Universe |  Infinite Comic | None      |  Free |\n",
       "| 3 | A Year of Marvels: February Infinite Comic (2016) | (2016) | A Year of Marvels: February Infinite Comic (2016) #1 | February 10, 2016 | Join us in a brand new Marvel comics adventure as your favorite heroes journey through the calendar year one month at a time! It’s February and Peter Parker’s got a hot date, but the old Parker luck hits hard…and so does the bank-robbing villain The Vulture! It’s a tale of romance, adventure, and punching!                                 | Danilo S. Beyruth, M Mast | Ryan North              | None           |  Marvel Universe |  Infinite Comic |  Rated T+ |  Free |\n",
       "| 4 | A Year of Marvels: July Infinite Comic (2016)     | (2016) | A Year of Marvels: July Infinite Comic (2016) #1     | June 29, 2016     | Celebrating the Fourth of July is complicated enough for a patriotic symbol turned soviet assassin, but then Hydra agents had to go and rob the Winter Soldier’s secret storage locker. Who sent them? What do they want? Bucky doesn’t care — he just wants his #$%&amp; back.                                                                         | Juanan Ramirez            | Chuck Wendig            | Jamal Campbell |  Marvel Universe |  Infinite Comic | None      |  Free |\n",
       "| 5 | A Year of Marvels: June Infinite Comic (2016)     | (2016) | A Year of Marvels: June Infinite Comic (2016) #1     | June 15, 2016     | Sam Alexander’s finding it hard to cope with the fact that his dad is M.I.A. in the far reaches of space. Luckily, this Father’s Day, Nova’s got the chance to help former New Warrior Midnight’s Fire put his family back together. But when Iron Man shows up to inform his young teammate he’s backing the wrong horse, will Nova cool his jets? | Diego Olortegui           | Paul Allor              | Jamal Campbell |  Marvel Universe |  Infinite Comic | None      |  Free |\n",
       "| 6 | A Year of Marvels: March Infinite Comic (2016)    | (2016) | A Year of Marvels: March Infinite Comic (2016) #1    | March 09, 2016    | When business is down in March, Scott Lang’s Ant-Man Security Solutions will take just about any job offered to them- including stealing back stolen goods! But all is not as it seems! Join writer Amy Chu and artist Ryan Browne as they team together for this Spring Break themed heist!                                                        | Ryan Browne               | Amy Chu                 | Jamal Campbell |  Marvel Universe |  Infinite Comic | None      |  Free |\n",
       "\n"
      ],
      "text/plain": [
       "  comic_name                                        active_years\n",
       "1 A Year of Marvels: April Infinite Comic (2016)    (2016)      \n",
       "2 A Year of Marvels: August Infinite Comic (2016)   (2016)      \n",
       "3 A Year of Marvels: February Infinite Comic (2016) (2016)      \n",
       "4 A Year of Marvels: July Infinite Comic (2016)     (2016)      \n",
       "5 A Year of Marvels: June Infinite Comic (2016)     (2016)      \n",
       "6 A Year of Marvels: March Infinite Comic (2016)    (2016)      \n",
       "  issue_title                                          publish_date     \n",
       "1 A Year of Marvels: April Infinite Comic (2016) #1    April 01, 2016   \n",
       "2 A Year of Marvels: August Infinite Comic (2016) #1   August 10, 2016  \n",
       "3 A Year of Marvels: February Infinite Comic (2016) #1 February 10, 2016\n",
       "4 A Year of Marvels: July Infinite Comic (2016) #1     June 29, 2016    \n",
       "5 A Year of Marvels: June Infinite Comic (2016) #1     June 15, 2016    \n",
       "6 A Year of Marvels: March Infinite Comic (2016) #1    March 09, 2016   \n",
       "  issue_description                                                                                                                                                                                                                                                                                                                                  \n",
       "1 The Infinite Comic that will have everyone talking! Full of fun, heart, and pranks, this is one folks'll be talking about for years!                                                                                                                                                                                                               \n",
       "2 It’s August, and Nick Fury is just in time to attend Japan’s Bon Festival…but he’s not here to celebrate. Not when an illegal weapons auction is about to begin! From Chad Bowers & Chris Sims (X-MEN ’92) and Brian Level!                                                                                                                        \n",
       "3 Join us in a brand new Marvel comics adventure as your favorite heroes journey through the calendar year one month at a time! It’s February and Peter Parker’s got a hot date, but the old Parker luck hits hard…and so does the bank-robbing villain The Vulture! It’s a tale of romance, adventure, and punching!                                \n",
       "4 Celebrating the Fourth of July is complicated enough for a patriotic symbol turned soviet assassin, but then Hydra agents had to go and rob the Winter Soldier’s secret storage locker. Who sent them? What do they want? Bucky doesn’t care — he just wants his #$%& back.                                                                        \n",
       "5 Sam Alexander’s finding it hard to cope with the fact that his dad is M.I.A. in the far reaches of space. Luckily, this Father’s Day, Nova’s got the chance to help former New Warrior Midnight’s Fire put his family back together. But when Iron Man shows up to inform his young teammate he’s backing the wrong horse, will Nova cool his jets?\n",
       "6 When business is down in March, Scott Lang’s Ant-Man Security Solutions will take just about any job offered to them- including stealing back stolen goods! But all is not as it seems! Join writer Amy Chu and artist Ryan Browne as they team together for this Spring Break themed heist!                                                       \n",
       "  penciler                  writer                  cover_artist  \n",
       "1 Yves Bigerel              Yves Bigerel            Jamal Campbell\n",
       "2 Jamal Campbell            Chris Sims, Chad Bowers None          \n",
       "3 Danilo S. Beyruth, M Mast Ryan North              None          \n",
       "4 Juanan Ramirez            Chuck Wendig            Jamal Campbell\n",
       "5 Diego Olortegui           Paul Allor              Jamal Campbell\n",
       "6 Ryan Browne               Amy Chu                 Jamal Campbell\n",
       "  Imprint          Format          Rating    Price\n",
       "1  Marvel Universe  Infinite Comic  Rated T+  Free\n",
       "2  Marvel Universe  Infinite Comic None       Free\n",
       "3  Marvel Universe  Infinite Comic  Rated T+  Free\n",
       "4  Marvel Universe  Infinite Comic None       Free\n",
       "5  Marvel Universe  Infinite Comic None       Free\n",
       "6  Marvel Universe  Infinite Comic None       Free"
      ]
     },
     "metadata": {},
     "output_type": "display_data"
    },
    {
     "data": {
      "text/html": [
       "<style>\n",
       ".list-inline {list-style: none; margin:0; padding: 0}\n",
       ".list-inline>li {display: inline-block}\n",
       ".list-inline>li:not(:last-child)::after {content: \"\\00b7\"; padding: 0 .5ex}\n",
       "</style>\n",
       "<ol class=list-inline><li>'comic_name'</li><li>'active_years'</li><li>'issue_title'</li><li>'publish_date'</li><li>'issue_description'</li><li>'penciler'</li><li>'writer'</li><li>'cover_artist'</li><li>'Imprint'</li><li>'Format'</li><li>'Rating'</li><li>'Price'</li></ol>\n"
      ],
      "text/latex": [
       "\\begin{enumerate*}\n",
       "\\item 'comic\\_name'\n",
       "\\item 'active\\_years'\n",
       "\\item 'issue\\_title'\n",
       "\\item 'publish\\_date'\n",
       "\\item 'issue\\_description'\n",
       "\\item 'penciler'\n",
       "\\item 'writer'\n",
       "\\item 'cover\\_artist'\n",
       "\\item 'Imprint'\n",
       "\\item 'Format'\n",
       "\\item 'Rating'\n",
       "\\item 'Price'\n",
       "\\end{enumerate*}\n"
      ],
      "text/markdown": [
       "1. 'comic_name'\n",
       "2. 'active_years'\n",
       "3. 'issue_title'\n",
       "4. 'publish_date'\n",
       "5. 'issue_description'\n",
       "6. 'penciler'\n",
       "7. 'writer'\n",
       "8. 'cover_artist'\n",
       "9. 'Imprint'\n",
       "10. 'Format'\n",
       "11. 'Rating'\n",
       "12. 'Price'\n",
       "\n",
       "\n"
      ],
      "text/plain": [
       " [1] \"comic_name\"        \"active_years\"      \"issue_title\"      \n",
       " [4] \"publish_date\"      \"issue_description\" \"penciler\"         \n",
       " [7] \"writer\"            \"cover_artist\"      \"Imprint\"          \n",
       "[10] \"Format\"            \"Rating\"            \"Price\"            "
      ]
     },
     "metadata": {},
     "output_type": "display_data"
    },
    {
     "data": {
      "text/html": [
       "34992"
      ],
      "text/latex": [
       "34992"
      ],
      "text/markdown": [
       "34992"
      ],
      "text/plain": [
       "[1] 34992"
      ]
     },
     "metadata": {},
     "output_type": "display_data"
    }
   ],
   "source": [
    "# Viewing first couple of lines of the dataset\n",
    "head(comics)\n",
    "# View column names(12 unique names)\n",
    "colnames(comics)\n",
    "ncol(comics)"
   ]
  },
  {
   "cell_type": "code",
   "execution_count": null,
   "id": "65652edf",
   "metadata": {},
   "outputs": [],
   "source": [
    "# View amount of rows (34992 rows)\n",
    "nrow(comics)"
   ]
  },
  {
   "cell_type": "markdown",
   "id": "b913643b",
   "metadata": {},
   "source": [
    "Create one graph to quickly visualize your data. <br>\n",
    "It's okay if it is not visualy appealing or contains outliers, because we have not cleaned our data yet! Did you get any errors? If so, what were they? Would the errors have been avoided if you had cleaned the data first?<br>\n",
    "Data cleaning and transforming is very important when storing your data in a warehouse...ready for Assignment #2?"
   ]
  },
  {
   "cell_type": "code",
   "execution_count": 11,
   "id": "f201bbb4",
   "metadata": {},
   "outputs": [
    {
     "data": {
      "image/png": "[encoded data removed]",
      "text/plain": [
       "plot without title"
      ]
     },
     "metadata": {
      "image/png": {
       "height": 420,
       "width": 420
      }
     },
     "output_type": "display_data"
    }
   ],
   "source": [
    "# I want to create a graph for the counts of the cwriter, but there are way too many artists to fit on the graph, so I will do a top 10\n",
    "\n",
    "# Dataframe with the top 10 writers\n",
    "top_writer <- head(sort(table(comics$writer), decreasing = TRUE), 10)\n",
    "\n",
    "# Subset the original dataframe based on the top writers\n",
    "comics_subset <- subset(comics, writer %in% names(top_writer))\n",
    "\n",
    "# Count graph for the top 10 writer\n",
    "ggplot(comics_subset, aes(x = writer)) +\n",
    "  geom_bar() +\n",
    "  labs(title = \"Top 10 Writers\",\n",
    "       x = \"Writer\",\n",
    "       y = \"Count\")"
   ]
  },
  {
   "cell_type": "code",
   "execution_count": null,
   "id": "851b69fb",
   "metadata": {},
   "outputs": [],
   "source": [
    "# I think this may contain errors. There is always a cover artist for a comic book, so this is messing with the counts as a whole.\n",
    "# It could be cleaned up by either getting rid of those rows (not sure if that's a good idea)\n",
    "# Or going through and filling in the missing data, which can be found online."
   ]
  },
  {
   "cell_type": "markdown",
   "id": "d58383c5",
   "metadata": {},
   "source": [
    "# Dataset #2"
   ]
  },
  {
   "cell_type": "markdown",
   "id": "66a091c2",
   "metadata": {},
   "source": [
    "<b>Dataset name: Data Science Salaries</b><br>\n",
    "<b>Company/Government Organization:Kaggle</b><br>\n",
    "Download link:https://www.kaggle.com/datasets/sazidthe1/data-science-salaries"
   ]
  },
  {
   "cell_type": "markdown",
   "id": "14708b28",
   "metadata": {},
   "source": [
    "Load any necessary libraries or packages:"
   ]
  },
  {
   "cell_type": "code",
   "execution_count": 1,
   "id": "cbdacc6b",
   "metadata": {
    "scrolled": true
   },
   "outputs": [
    {
     "name": "stderr",
     "output_type": "stream",
     "text": [
      "── \u001b[1mAttaching core tidyverse packages\u001b[22m ──────────────────────── tidyverse 2.0.0 ──\n",
      "\u001b[32m✔\u001b[39m \u001b[34mdplyr    \u001b[39m 1.1.3     \u001b[32m✔\u001b[39m \u001b[34mreadr    \u001b[39m 2.1.4\n",
      "\u001b[32m✔\u001b[39m \u001b[34mforcats  \u001b[39m 1.0.0     \u001b[32m✔\u001b[39m \u001b[34mstringr  \u001b[39m 1.5.0\n",
      "\u001b[32m✔\u001b[39m \u001b[34mggplot2  \u001b[39m 3.4.4     \u001b[32m✔\u001b[39m \u001b[34mtibble   \u001b[39m 3.2.1\n",
      "\u001b[32m✔\u001b[39m \u001b[34mlubridate\u001b[39m 1.9.2     \u001b[32m✔\u001b[39m \u001b[34mtidyr    \u001b[39m 1.3.0\n",
      "\u001b[32m✔\u001b[39m \u001b[34mpurrr    \u001b[39m 1.0.2     \n",
      "── \u001b[1mConflicts\u001b[22m ────────────────────────────────────────── tidyverse_conflicts() ──\n",
      "\u001b[31m✖\u001b[39m \u001b[34mdplyr\u001b[39m::\u001b[32mfilter()\u001b[39m masks \u001b[34mstats\u001b[39m::filter()\n",
      "\u001b[31m✖\u001b[39m \u001b[34mdplyr\u001b[39m::\u001b[32mlag()\u001b[39m    masks \u001b[34mstats\u001b[39m::lag()\n",
      "\u001b[36mℹ\u001b[39m Use the conflicted package (\u001b[3m\u001b[34m<http://conflicted.r-lib.org/>\u001b[39m\u001b[23m) to force all conflicts to become errors\n"
     ]
    }
   ],
   "source": [
    "library(tidyverse) #Reading data\n",
    "library(lubridate) #Reading and manipulating dates and times\n",
    "library(readr) #Reading the CSV data file\n",
    "library(ggplot2) #Graphing"
   ]
  },
  {
   "cell_type": "code",
   "execution_count": null,
   "id": "a86779f8",
   "metadata": {},
   "outputs": [],
   "source": [
    "# No additional libraries or packages needed"
   ]
  },
  {
   "cell_type": "markdown",
   "id": "f6ad53f3",
   "metadata": {},
   "source": [
    "Load your dataset into the notebook below:"
   ]
  },
  {
   "cell_type": "code",
   "execution_count": 2,
   "id": "0ccebf74",
   "metadata": {},
   "outputs": [],
   "source": [
    "# setting up a dataframe tied to the csv\n",
    "salaries <- read.csv(\"data_science_salaries.csv\")"
   ]
  },
  {
   "cell_type": "code",
   "execution_count": 3,
   "id": "ceb94a92",
   "metadata": {},
   "outputs": [
    {
     "data": {
      "text/html": [
       "<table class=\"dataframe\">\n",
       "<caption>A data.frame: 6 × 11</caption>\n",
       "<thead>\n",
       "\t<tr><th></th><th scope=col>job_title</th><th scope=col>experience_level</th><th scope=col>employment_type</th><th scope=col>work_models</th><th scope=col>work_year</th><th scope=col>employee_residence</th><th scope=col>salary</th><th scope=col>salary_currency</th><th scope=col>salary_in_usd</th><th scope=col>company_location</th><th scope=col>company_size</th></tr>\n",
       "\t<tr><th></th><th scope=col>&lt;chr&gt;</th><th scope=col>&lt;chr&gt;</th><th scope=col>&lt;chr&gt;</th><th scope=col>&lt;chr&gt;</th><th scope=col>&lt;int&gt;</th><th scope=col>&lt;chr&gt;</th><th scope=col>&lt;int&gt;</th><th scope=col>&lt;chr&gt;</th><th scope=col>&lt;int&gt;</th><th scope=col>&lt;chr&gt;</th><th scope=col>&lt;chr&gt;</th></tr>\n",
       "</thead>\n",
       "<tbody>\n",
       "\t<tr><th scope=row>1</th><td>Data Engineer </td><td>Mid-level   </td><td>Full-time</td><td>Remote </td><td>2024</td><td>United States</td><td>148100</td><td>USD</td><td>148100</td><td>United States</td><td>Medium</td></tr>\n",
       "\t<tr><th scope=row>2</th><td>Data Engineer </td><td>Mid-level   </td><td>Full-time</td><td>Remote </td><td>2024</td><td>United States</td><td> 98700</td><td>USD</td><td> 98700</td><td>United States</td><td>Medium</td></tr>\n",
       "\t<tr><th scope=row>3</th><td>Data Scientist</td><td>Senior-level</td><td>Full-time</td><td>Remote </td><td>2024</td><td>United States</td><td>140032</td><td>USD</td><td>140032</td><td>United States</td><td>Medium</td></tr>\n",
       "\t<tr><th scope=row>4</th><td>Data Scientist</td><td>Senior-level</td><td>Full-time</td><td>Remote </td><td>2024</td><td>United States</td><td>100022</td><td>USD</td><td>100022</td><td>United States</td><td>Medium</td></tr>\n",
       "\t<tr><th scope=row>5</th><td>BI Developer  </td><td>Mid-level   </td><td>Full-time</td><td>On-site</td><td>2024</td><td>United States</td><td>120000</td><td>USD</td><td>120000</td><td>United States</td><td>Medium</td></tr>\n",
       "\t<tr><th scope=row>6</th><td>BI Developer  </td><td>Mid-level   </td><td>Full-time</td><td>On-site</td><td>2024</td><td>United States</td><td> 62100</td><td>USD</td><td> 62100</td><td>United States</td><td>Medium</td></tr>\n",
       "</tbody>\n",
       "</table>\n"
      ],
      "text/latex": [
       "A data.frame: 6 × 11\n",
       "\\begin{tabular}{r|lllllllllll}\n",
       "  & job\\_title & experience\\_level & employment\\_type & work\\_models & work\\_year & employee\\_residence & salary & salary\\_currency & salary\\_in\\_usd & company\\_location & company\\_size\\\\\n",
       "  & <chr> & <chr> & <chr> & <chr> & <int> & <chr> & <int> & <chr> & <int> & <chr> & <chr>\\\\\n",
       "\\hline\n",
       "\t1 & Data Engineer  & Mid-level    & Full-time & Remote  & 2024 & United States & 148100 & USD & 148100 & United States & Medium\\\\\n",
       "\t2 & Data Engineer  & Mid-level    & Full-time & Remote  & 2024 & United States &  98700 & USD &  98700 & United States & Medium\\\\\n",
       "\t3 & Data Scientist & Senior-level & Full-time & Remote  & 2024 & United States & 140032 & USD & 140032 & United States & Medium\\\\\n",
       "\t4 & Data Scientist & Senior-level & Full-time & Remote  & 2024 & United States & 100022 & USD & 100022 & United States & Medium\\\\\n",
       "\t5 & BI Developer   & Mid-level    & Full-time & On-site & 2024 & United States & 120000 & USD & 120000 & United States & Medium\\\\\n",
       "\t6 & BI Developer   & Mid-level    & Full-time & On-site & 2024 & United States &  62100 & USD &  62100 & United States & Medium\\\\\n",
       "\\end{tabular}\n"
      ],
      "text/markdown": [
       "\n",
       "A data.frame: 6 × 11\n",
       "\n",
       "| <!--/--> | job_title &lt;chr&gt; | experience_level &lt;chr&gt; | employment_type &lt;chr&gt; | work_models &lt;chr&gt; | work_year &lt;int&gt; | employee_residence &lt;chr&gt; | salary &lt;int&gt; | salary_currency &lt;chr&gt; | salary_in_usd &lt;int&gt; | company_location &lt;chr&gt; | company_size &lt;chr&gt; |\n",
       "|---|---|---|---|---|---|---|---|---|---|---|---|\n",
       "| 1 | Data Engineer  | Mid-level    | Full-time | Remote  | 2024 | United States | 148100 | USD | 148100 | United States | Medium |\n",
       "| 2 | Data Engineer  | Mid-level    | Full-time | Remote  | 2024 | United States |  98700 | USD |  98700 | United States | Medium |\n",
       "| 3 | Data Scientist | Senior-level | Full-time | Remote  | 2024 | United States | 140032 | USD | 140032 | United States | Medium |\n",
       "| 4 | Data Scientist | Senior-level | Full-time | Remote  | 2024 | United States | 100022 | USD | 100022 | United States | Medium |\n",
       "| 5 | BI Developer   | Mid-level    | Full-time | On-site | 2024 | United States | 120000 | USD | 120000 | United States | Medium |\n",
       "| 6 | BI Developer   | Mid-level    | Full-time | On-site | 2024 | United States |  62100 | USD |  62100 | United States | Medium |\n",
       "\n"
      ],
      "text/plain": [
       "  job_title      experience_level employment_type work_models work_year\n",
       "1 Data Engineer  Mid-level        Full-time       Remote      2024     \n",
       "2 Data Engineer  Mid-level        Full-time       Remote      2024     \n",
       "3 Data Scientist Senior-level     Full-time       Remote      2024     \n",
       "4 Data Scientist Senior-level     Full-time       Remote      2024     \n",
       "5 BI Developer   Mid-level        Full-time       On-site     2024     \n",
       "6 BI Developer   Mid-level        Full-time       On-site     2024     \n",
       "  employee_residence salary salary_currency salary_in_usd company_location\n",
       "1 United States      148100 USD             148100        United States   \n",
       "2 United States       98700 USD              98700        United States   \n",
       "3 United States      140032 USD             140032        United States   \n",
       "4 United States      100022 USD             100022        United States   \n",
       "5 United States      120000 USD             120000        United States   \n",
       "6 United States       62100 USD              62100        United States   \n",
       "  company_size\n",
       "1 Medium      \n",
       "2 Medium      \n",
       "3 Medium      \n",
       "4 Medium      \n",
       "5 Medium      \n",
       "6 Medium      "
      ]
     },
     "metadata": {},
     "output_type": "display_data"
    }
   ],
   "source": [
    "# view a small portion of the table to get ideas\n",
    "head(salaries)"
   ]
  },
  {
   "cell_type": "markdown",
   "id": "bd503196",
   "metadata": {},
   "source": [
    "What are the unique columns or variables present in your dataset? How many rows are there?"
   ]
  },
  {
   "cell_type": "code",
   "execution_count": 7,
   "id": "f3b0fd38",
   "metadata": {},
   "outputs": [
    {
     "data": {
      "text/html": [
       "<style>\n",
       ".list-inline {list-style: none; margin:0; padding: 0}\n",
       ".list-inline>li {display: inline-block}\n",
       ".list-inline>li:not(:last-child)::after {content: \"\\00b7\"; padding: 0 .5ex}\n",
       "</style>\n",
       "<ol class=list-inline><li>'job_title'</li><li>'experience_level'</li><li>'employment_type'</li><li>'work_models'</li><li>'work_year'</li><li>'employee_residence'</li><li>'salary'</li><li>'salary_currency'</li><li>'salary_in_usd'</li><li>'company_location'</li><li>'company_size'</li></ol>\n"
      ],
      "text/latex": [
       "\\begin{enumerate*}\n",
       "\\item 'job\\_title'\n",
       "\\item 'experience\\_level'\n",
       "\\item 'employment\\_type'\n",
       "\\item 'work\\_models'\n",
       "\\item 'work\\_year'\n",
       "\\item 'employee\\_residence'\n",
       "\\item 'salary'\n",
       "\\item 'salary\\_currency'\n",
       "\\item 'salary\\_in\\_usd'\n",
       "\\item 'company\\_location'\n",
       "\\item 'company\\_size'\n",
       "\\end{enumerate*}\n"
      ],
      "text/markdown": [
       "1. 'job_title'\n",
       "2. 'experience_level'\n",
       "3. 'employment_type'\n",
       "4. 'work_models'\n",
       "5. 'work_year'\n",
       "6. 'employee_residence'\n",
       "7. 'salary'\n",
       "8. 'salary_currency'\n",
       "9. 'salary_in_usd'\n",
       "10. 'company_location'\n",
       "11. 'company_size'\n",
       "\n",
       "\n"
      ],
      "text/plain": [
       " [1] \"job_title\"          \"experience_level\"   \"employment_type\"   \n",
       " [4] \"work_models\"        \"work_year\"          \"employee_residence\"\n",
       " [7] \"salary\"             \"salary_currency\"    \"salary_in_usd\"     \n",
       "[10] \"company_location\"   \"company_size\"      "
      ]
     },
     "metadata": {},
     "output_type": "display_data"
    },
    {
     "data": {
      "text/html": [
       "11"
      ],
      "text/latex": [
       "11"
      ],
      "text/markdown": [
       "11"
      ],
      "text/plain": [
       "[1] 11"
      ]
     },
     "metadata": {},
     "output_type": "display_data"
    }
   ],
   "source": [
    "# checking all the column names (11 unique names)\n",
    "colnames(salaries)\n",
    "ncol(salaries)"
   ]
  },
  {
   "cell_type": "code",
   "execution_count": 9,
   "id": "9ae2587f",
   "metadata": {},
   "outputs": [
    {
     "data": {
      "text/html": [
       "11087"
      ],
      "text/latex": [
       "11087"
      ],
      "text/markdown": [
       "11087"
      ],
      "text/plain": [
       "[1] 11087"
      ]
     },
     "metadata": {},
     "output_type": "display_data"
    }
   ],
   "source": [
    "# checking number of rows\n",
    "nrow(salaries)"
   ]
  },
  {
   "cell_type": "markdown",
   "id": "c1501908",
   "metadata": {},
   "source": [
    "Create one graph to quickly visualize your data. <br>\n",
    "It's okay if it is not visualy appealing or contains outliers, because we have not cleaned our data yet! Did you get any errors? If so, what were they? Would the errors have been avoided if you had cleaned the data first?<br>\n",
    "Data cleaning and transforming is very important when storing your data in a warehouse...ready for Assignment #2?"
   ]
  },
  {
   "cell_type": "code",
   "execution_count": 11,
   "id": "aebde75d",
   "metadata": {},
   "outputs": [
    {
     "data": {
      "image/png": "[encoded data removed]",
      "text/plain": [
       "plot without title"
      ]
     },
     "metadata": {
      "image/png": {
       "height": 420,
       "width": 420
      }
     },
     "output_type": "display_data"
    }
   ],
   "source": [
    "# Bar plot of experience_level counts\n",
    "ggplot(salaries, aes(x = experience_level)) +\n",
    "  geom_bar() +\n",
    "  labs(title = \"Experience Level Counts\",\n",
    "       x = \"Experience Level\",\n",
    "       y = \"Count\") +\n",
    "  theme(axis.text.x = element_text(angle = 45, hjust = 1))"
   ]
  },
  {
   "cell_type": "code",
   "execution_count": null,
   "id": "e6ab7e05",
   "metadata": {},
   "outputs": [],
   "source": [
    "# By the looks of it, I don't think I got any errors. \n",
    "# Some future errors could be a row not containing a value for every column or there could be spelling errors.\n"
   ]
  }
 ],
 "metadata": {
  "kernelspec": {
   "display_name": "R",
   "language": "R",
   "name": "ir"
  },
  "language_info": {
   "codemirror_mode": "r",
   "file_extension": ".r",
   "mimetype": "text/x-r-source",
   "name": "R",
   "pygments_lexer": "r",
   "version": "4.3.1"
  }
 },
 "nbformat": 4,
 "nbformat_minor": 5
}
